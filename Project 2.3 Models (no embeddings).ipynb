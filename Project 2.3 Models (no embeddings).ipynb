{
 "cells": [
  {
   "cell_type": "markdown",
   "metadata": {},
   "source": [
    "Name: Han Chen, Daniel Fernandez Davila"
   ]
  },
  {
   "cell_type": "markdown",
   "metadata": {},
   "source": [
    "### Models\n",
    "I. Baseline Model\n",
    "1. First tried to classify with Lexicon list of Positive and Negative Words from previous Sentiment Analysis Models. \n",
    "2. Count the occurrences of Positive and Negative Words and classify the tweet accordingly (Net sum positive as +1, otherwise -1)   \n",
    "3. The accuracy of this baseline model is 46.54%, lower than a random guess. \n",
    "So we decided to use the random guess as our baseline model, simple and easy.   \n",
    "\n",
    "II. Other models\n",
    "1. We tried three ways to construct our features:  \n",
    "   (1) Bag of Words using CountVectorizer  \n",
    "       Bag of Words simply count the number of occurance of each word in the text corpus.Each word becomes a feature, and the number of occurance is the value.  \n",
    "   (2) TFIDF   \n",
    "       TFIDF also weight each word in the document based on the appearance in the document. This not only reflects the importance of words in the text, but also normalizes each vector.  \n",
    "   (3) Word Embeddings  \n",
    "       Word Embeddings yield the best test accuracy of the models, so we decided to use that for feature selection. We thought the reason might be that word embeddings are capable to capturing the semantic meaning of the words. In our project, each text is converted into a 200 length vector. (In the word embedding approach notebook) \n",
    "2. PCA was applied before running models. Best n_components was chosen by the maximum variance explained of the data.\n",
    "3. We then implemented the models by first chose hyperparameters by grid search/cross validation, and then trained and tested with 75%/25% training and test split.   \n",
    "    Majority voting was introduced to combine all learner together and predict the test data to be the majority vote of each learner. "
   ]
  },
  {
   "cell_type": "markdown",
   "metadata": {},
   "source": [
    "### Baseline Model"
   ]
  },
  {
   "cell_type": "code",
   "execution_count": 126,
   "metadata": {},
   "outputs": [],
   "source": [
    "negative = pd.read_csv('Datasets/List_of_Words/negative-wordscopy.txt', encoding=\"ISO-8859-1\", header = None)\n",
    "positive = pd.read_csv('Datasets/List_of_Words/positive-wordscopy.txt', encoding=\"ISO-8859-1\", header = None)"
   ]
  },
  {
   "cell_type": "code",
   "execution_count": 127,
   "metadata": {
    "scrolled": true
   },
   "outputs": [
    {
     "data": {
      "text/html": [
       "<div>\n",
       "<style scoped>\n",
       "    .dataframe tbody tr th:only-of-type {\n",
       "        vertical-align: middle;\n",
       "    }\n",
       "\n",
       "    .dataframe tbody tr th {\n",
       "        vertical-align: top;\n",
       "    }\n",
       "\n",
       "    .dataframe thead th {\n",
       "        text-align: right;\n",
       "    }\n",
       "</style>\n",
       "<table border=\"1\" class=\"dataframe\">\n",
       "  <thead>\n",
       "    <tr style=\"text-align: right;\">\n",
       "      <th></th>\n",
       "      <th>Unnamed: 0</th>\n",
       "      <th>open</th>\n",
       "      <th>close</th>\n",
       "      <th>change (%)</th>\n",
       "      <th>movement</th>\n",
       "      <th>text</th>\n",
       "      <th>count</th>\n",
       "    </tr>\n",
       "  </thead>\n",
       "  <tbody>\n",
       "    <tr>\n",
       "      <th>0</th>\n",
       "      <td>2017-04-23 00:00:00</td>\n",
       "      <td>1345.366757</td>\n",
       "      <td>1342.639048</td>\n",
       "      <td>-0.202748</td>\n",
       "      <td>-1</td>\n",
       "      <td>#Banks vs #cryptocurrency war: Bitfinex, OKcoi...</td>\n",
       "      <td>3</td>\n",
       "    </tr>\n",
       "    <tr>\n",
       "      <th>1</th>\n",
       "      <td>2017-04-23 12:00:00</td>\n",
       "      <td>1341.000005</td>\n",
       "      <td>1352.193569</td>\n",
       "      <td>0.834718</td>\n",
       "      <td>1</td>\n",
       "      <td>Bitcoin Origins RT @CHalexov2016: Time to buy ...</td>\n",
       "      <td>11</td>\n",
       "    </tr>\n",
       "    <tr>\n",
       "      <th>2</th>\n",
       "      <td>2017-04-24 00:00:00</td>\n",
       "      <td>1352.193569</td>\n",
       "      <td>1336.419090</td>\n",
       "      <td>-1.166584</td>\n",
       "      <td>-1</td>\n",
       "      <td>The end of cash: It a Bit harder to trace onli...</td>\n",
       "      <td>4</td>\n",
       "    </tr>\n",
       "    <tr>\n",
       "      <th>3</th>\n",
       "      <td>2017-04-24 12:00:00</td>\n",
       "      <td>1336.020000</td>\n",
       "      <td>1347.399011</td>\n",
       "      <td>0.851710</td>\n",
       "      <td>1</td>\n",
       "      <td>#BitcoinUnlimited is production ready guys. RT...</td>\n",
       "      <td>13</td>\n",
       "    </tr>\n",
       "    <tr>\n",
       "      <th>4</th>\n",
       "      <td>2017-04-25 00:00:00</td>\n",
       "      <td>1346.862890</td>\n",
       "      <td>1364.896000</td>\n",
       "      <td>1.338897</td>\n",
       "      <td>1</td>\n",
       "      <td>RT @btc_manager: Character Assassins for Hire:...</td>\n",
       "      <td>5</td>\n",
       "    </tr>\n",
       "  </tbody>\n",
       "</table>\n",
       "</div>"
      ],
      "text/plain": [
       "            Unnamed: 0         open        close  change (%)  movement  \\\n",
       "0  2017-04-23 00:00:00  1345.366757  1342.639048   -0.202748        -1   \n",
       "1  2017-04-23 12:00:00  1341.000005  1352.193569    0.834718         1   \n",
       "2  2017-04-24 00:00:00  1352.193569  1336.419090   -1.166584        -1   \n",
       "3  2017-04-24 12:00:00  1336.020000  1347.399011    0.851710         1   \n",
       "4  2017-04-25 00:00:00  1346.862890  1364.896000    1.338897         1   \n",
       "\n",
       "                                                text  count  \n",
       "0  #Banks vs #cryptocurrency war: Bitfinex, OKcoi...      3  \n",
       "1  Bitcoin Origins RT @CHalexov2016: Time to buy ...     11  \n",
       "2  The end of cash: It a Bit harder to trace onli...      4  \n",
       "3  #BitcoinUnlimited is production ready guys. RT...     13  \n",
       "4  RT @btc_manager: Character Assassins for Hire:...      5  "
      ]
     },
     "execution_count": 127,
     "metadata": {},
     "output_type": "execute_result"
    }
   ],
   "source": [
    "data.head()"
   ]
  },
  {
   "cell_type": "code",
   "execution_count": 128,
   "metadata": {},
   "outputs": [],
   "source": [
    "for i in range(len(data)):\n",
    "    data.iloc[i,5] = data.iloc[i,5].lower()"
   ]
  },
  {
   "cell_type": "code",
   "execution_count": 129,
   "metadata": {},
   "outputs": [],
   "source": [
    "data['prediction'] = -1"
   ]
  },
  {
   "cell_type": "code",
   "execution_count": 130,
   "metadata": {},
   "outputs": [
    {
     "name": "stdout",
     "output_type": "stream",
     "text": [
      "63.59047198295593\n"
     ]
    }
   ],
   "source": [
    "import time\n",
    "start_time = time.time()\n",
    "for i in range(len(data)):\n",
    "    #print(i)\n",
    "    if sum(data.iloc[i,5].count(x) for x in negative[0]) > sum(data.iloc[i,5].count(x) for x in positive[0]):\n",
    "        data.iloc[i,7] = -1\n",
    "    elif sum(data.iloc[i,5].count(x) for x in negative[0]) < sum(data.iloc[i,5].count(x) for x in positive[0]):\n",
    "        data.iloc[i,7] = 1"
   ]
  },
  {
   "cell_type": "code",
   "execution_count": 131,
   "metadata": {},
   "outputs": [
    {
     "name": "stdout",
     "output_type": "stream",
     "text": [
      "Baseline accuracy: 0.4654178674351585\n"
     ]
    }
   ],
   "source": [
    "print(\"Baseline accuracy:\",accuracy_score(data['movement'], data['prediction']))"
   ]
  },
  {
   "cell_type": "markdown",
   "metadata": {},
   "source": [
    "## Other Machine Learning Models (using Bag Of Words) "
   ]
  },
  {
   "cell_type": "markdown",
   "metadata": {},
   "source": [
    "#### Load Data"
   ]
  },
  {
   "cell_type": "code",
   "execution_count": 23,
   "metadata": {},
   "outputs": [],
   "source": [
    "import pandas as pd\n",
    "import numpy as np"
   ]
  },
  {
   "cell_type": "code",
   "execution_count": 24,
   "metadata": {},
   "outputs": [],
   "source": [
    "data = pd.read_csv('data_to_ml_models.csv',encoding='utf-8')"
   ]
  },
  {
   "cell_type": "code",
   "execution_count": 25,
   "metadata": {
    "scrolled": false
   },
   "outputs": [],
   "source": [
    "data.columns = ['time','open','close','change (%)','movement','text','count']"
   ]
  },
  {
   "cell_type": "code",
   "execution_count": 26,
   "metadata": {
    "scrolled": true
   },
   "outputs": [
    {
     "data": {
      "text/html": [
       "<div>\n",
       "<style scoped>\n",
       "    .dataframe tbody tr th:only-of-type {\n",
       "        vertical-align: middle;\n",
       "    }\n",
       "\n",
       "    .dataframe tbody tr th {\n",
       "        vertical-align: top;\n",
       "    }\n",
       "\n",
       "    .dataframe thead th {\n",
       "        text-align: right;\n",
       "    }\n",
       "</style>\n",
       "<table border=\"1\" class=\"dataframe\">\n",
       "  <thead>\n",
       "    <tr style=\"text-align: right;\">\n",
       "      <th></th>\n",
       "      <th>time</th>\n",
       "      <th>open</th>\n",
       "      <th>close</th>\n",
       "      <th>change (%)</th>\n",
       "      <th>movement</th>\n",
       "      <th>text</th>\n",
       "      <th>count</th>\n",
       "    </tr>\n",
       "  </thead>\n",
       "  <tbody>\n",
       "    <tr>\n",
       "      <th>1382</th>\n",
       "      <td>2018-04-03 18:00:00</td>\n",
       "      <td>7419.388173</td>\n",
       "      <td>7412.270339</td>\n",
       "      <td>-0.095936</td>\n",
       "      <td>-1</td>\n",
       "      <td>Never Miss Any Critical Bitcoin Related News A...</td>\n",
       "      <td>172</td>\n",
       "    </tr>\n",
       "    <tr>\n",
       "      <th>1383</th>\n",
       "      <td>2018-04-04 00:00:00</td>\n",
       "      <td>7406.145999</td>\n",
       "      <td>7347.608797</td>\n",
       "      <td>-0.790387</td>\n",
       "      <td>-1</td>\n",
       "      <td>Every Wed hosts @MattAaron &amp;amp; @NickyPapersN...</td>\n",
       "      <td>115</td>\n",
       "    </tr>\n",
       "    <tr>\n",
       "      <th>1384</th>\n",
       "      <td>2018-04-04 06:00:00</td>\n",
       "      <td>7358.884419</td>\n",
       "      <td>7054.051754</td>\n",
       "      <td>-4.142376</td>\n",
       "      <td>-1</td>\n",
       "      <td>@winrej68 Thanks for following Jerwin. Come jo...</td>\n",
       "      <td>71</td>\n",
       "    </tr>\n",
       "    <tr>\n",
       "      <th>1385</th>\n",
       "      <td>2018-04-04 12:00:00</td>\n",
       "      <td>7058.455973</td>\n",
       "      <td>6832.173030</td>\n",
       "      <td>-3.205842</td>\n",
       "      <td>-1</td>\n",
       "      <td>@Fullbeerbottle @CryptoCred Too bad they gotta...</td>\n",
       "      <td>150</td>\n",
       "    </tr>\n",
       "    <tr>\n",
       "      <th>1386</th>\n",
       "      <td>2018-04-04 18:00:00</td>\n",
       "      <td>6843.796444</td>\n",
       "      <td>6769.945088</td>\n",
       "      <td>-1.079099</td>\n",
       "      <td>-1</td>\n",
       "      <td>It here! The first ever mobile lightning walle...</td>\n",
       "      <td>144</td>\n",
       "    </tr>\n",
       "  </tbody>\n",
       "</table>\n",
       "</div>"
      ],
      "text/plain": [
       "                     time         open        close  change (%)  movement  \\\n",
       "1382  2018-04-03 18:00:00  7419.388173  7412.270339   -0.095936        -1   \n",
       "1383  2018-04-04 00:00:00  7406.145999  7347.608797   -0.790387        -1   \n",
       "1384  2018-04-04 06:00:00  7358.884419  7054.051754   -4.142376        -1   \n",
       "1385  2018-04-04 12:00:00  7058.455973  6832.173030   -3.205842        -1   \n",
       "1386  2018-04-04 18:00:00  6843.796444  6769.945088   -1.079099        -1   \n",
       "\n",
       "                                                   text  count  \n",
       "1382  Never Miss Any Critical Bitcoin Related News A...    172  \n",
       "1383  Every Wed hosts @MattAaron &amp; @NickyPapersN...    115  \n",
       "1384  @winrej68 Thanks for following Jerwin. Come jo...     71  \n",
       "1385  @Fullbeerbottle @CryptoCred Too bad they gotta...    150  \n",
       "1386  It here! The first ever mobile lightning walle...    144  "
      ]
     },
     "execution_count": 26,
     "metadata": {},
     "output_type": "execute_result"
    }
   ],
   "source": [
    "data.tail()"
   ]
  },
  {
   "cell_type": "code",
   "execution_count": 27,
   "metadata": {},
   "outputs": [
    {
     "name": "stdout",
     "output_type": "stream",
     "text": [
      "Vocabulary Size: 923\n"
     ]
    }
   ],
   "source": [
    "# Creating document term matrix\n",
    "# Bag of Words Approach\n",
    "data = data.dropna()\n",
    "from sklearn.feature_extraction.text import CountVectorizer\n",
    "tf_vectorizer = CountVectorizer(max_df=0.9,\n",
    "                                min_df=70,\n",
    "                                stop_words='english')\n",
    "tf_master = tf_vectorizer.fit_transform(data['text'])\n",
    "print(\"Vocabulary Size:\",tf_master.shape[1])"
   ]
  },
  {
   "cell_type": "code",
   "execution_count": 28,
   "metadata": {},
   "outputs": [],
   "source": [
    "data3 = pd.DataFrame(tf_master.toarray())"
   ]
  },
  {
   "cell_type": "code",
   "execution_count": 29,
   "metadata": {
    "scrolled": true
   },
   "outputs": [
    {
     "data": {
      "text/html": [
       "<div>\n",
       "<style scoped>\n",
       "    .dataframe tbody tr th:only-of-type {\n",
       "        vertical-align: middle;\n",
       "    }\n",
       "\n",
       "    .dataframe tbody tr th {\n",
       "        vertical-align: top;\n",
       "    }\n",
       "\n",
       "    .dataframe thead th {\n",
       "        text-align: right;\n",
       "    }\n",
       "</style>\n",
       "<table border=\"1\" class=\"dataframe\">\n",
       "  <thead>\n",
       "    <tr style=\"text-align: right;\">\n",
       "      <th></th>\n",
       "      <th>0</th>\n",
       "      <th>1</th>\n",
       "      <th>2</th>\n",
       "      <th>3</th>\n",
       "      <th>4</th>\n",
       "      <th>5</th>\n",
       "      <th>6</th>\n",
       "      <th>7</th>\n",
       "      <th>8</th>\n",
       "      <th>9</th>\n",
       "      <th>...</th>\n",
       "      <th>913</th>\n",
       "      <th>914</th>\n",
       "      <th>915</th>\n",
       "      <th>916</th>\n",
       "      <th>917</th>\n",
       "      <th>918</th>\n",
       "      <th>919</th>\n",
       "      <th>920</th>\n",
       "      <th>921</th>\n",
       "      <th>922</th>\n",
       "    </tr>\n",
       "  </thead>\n",
       "  <tbody>\n",
       "    <tr>\n",
       "      <th>0</th>\n",
       "      <td>0</td>\n",
       "      <td>0</td>\n",
       "      <td>0</td>\n",
       "      <td>0</td>\n",
       "      <td>0</td>\n",
       "      <td>0</td>\n",
       "      <td>0</td>\n",
       "      <td>0</td>\n",
       "      <td>0</td>\n",
       "      <td>0</td>\n",
       "      <td>...</td>\n",
       "      <td>0</td>\n",
       "      <td>0</td>\n",
       "      <td>0</td>\n",
       "      <td>0</td>\n",
       "      <td>0</td>\n",
       "      <td>0</td>\n",
       "      <td>0</td>\n",
       "      <td>0</td>\n",
       "      <td>0</td>\n",
       "      <td>0</td>\n",
       "    </tr>\n",
       "    <tr>\n",
       "      <th>1</th>\n",
       "      <td>0</td>\n",
       "      <td>0</td>\n",
       "      <td>0</td>\n",
       "      <td>0</td>\n",
       "      <td>0</td>\n",
       "      <td>0</td>\n",
       "      <td>0</td>\n",
       "      <td>0</td>\n",
       "      <td>0</td>\n",
       "      <td>0</td>\n",
       "      <td>...</td>\n",
       "      <td>0</td>\n",
       "      <td>0</td>\n",
       "      <td>0</td>\n",
       "      <td>0</td>\n",
       "      <td>0</td>\n",
       "      <td>0</td>\n",
       "      <td>0</td>\n",
       "      <td>0</td>\n",
       "      <td>0</td>\n",
       "      <td>0</td>\n",
       "    </tr>\n",
       "    <tr>\n",
       "      <th>2</th>\n",
       "      <td>0</td>\n",
       "      <td>0</td>\n",
       "      <td>0</td>\n",
       "      <td>0</td>\n",
       "      <td>0</td>\n",
       "      <td>0</td>\n",
       "      <td>0</td>\n",
       "      <td>0</td>\n",
       "      <td>0</td>\n",
       "      <td>0</td>\n",
       "      <td>...</td>\n",
       "      <td>0</td>\n",
       "      <td>0</td>\n",
       "      <td>0</td>\n",
       "      <td>0</td>\n",
       "      <td>0</td>\n",
       "      <td>0</td>\n",
       "      <td>0</td>\n",
       "      <td>0</td>\n",
       "      <td>0</td>\n",
       "      <td>0</td>\n",
       "    </tr>\n",
       "    <tr>\n",
       "      <th>3</th>\n",
       "      <td>0</td>\n",
       "      <td>0</td>\n",
       "      <td>0</td>\n",
       "      <td>0</td>\n",
       "      <td>0</td>\n",
       "      <td>0</td>\n",
       "      <td>0</td>\n",
       "      <td>0</td>\n",
       "      <td>0</td>\n",
       "      <td>0</td>\n",
       "      <td>...</td>\n",
       "      <td>0</td>\n",
       "      <td>0</td>\n",
       "      <td>0</td>\n",
       "      <td>0</td>\n",
       "      <td>0</td>\n",
       "      <td>0</td>\n",
       "      <td>0</td>\n",
       "      <td>0</td>\n",
       "      <td>0</td>\n",
       "      <td>0</td>\n",
       "    </tr>\n",
       "    <tr>\n",
       "      <th>4</th>\n",
       "      <td>0</td>\n",
       "      <td>0</td>\n",
       "      <td>0</td>\n",
       "      <td>0</td>\n",
       "      <td>0</td>\n",
       "      <td>0</td>\n",
       "      <td>0</td>\n",
       "      <td>0</td>\n",
       "      <td>0</td>\n",
       "      <td>0</td>\n",
       "      <td>...</td>\n",
       "      <td>0</td>\n",
       "      <td>0</td>\n",
       "      <td>0</td>\n",
       "      <td>0</td>\n",
       "      <td>0</td>\n",
       "      <td>0</td>\n",
       "      <td>0</td>\n",
       "      <td>0</td>\n",
       "      <td>0</td>\n",
       "      <td>0</td>\n",
       "    </tr>\n",
       "  </tbody>\n",
       "</table>\n",
       "<p>5 rows × 923 columns</p>\n",
       "</div>"
      ],
      "text/plain": [
       "   0    1    2    3    4    5    6    7    8    9   ...   913  914  915  916  \\\n",
       "0    0    0    0    0    0    0    0    0    0    0 ...     0    0    0    0   \n",
       "1    0    0    0    0    0    0    0    0    0    0 ...     0    0    0    0   \n",
       "2    0    0    0    0    0    0    0    0    0    0 ...     0    0    0    0   \n",
       "3    0    0    0    0    0    0    0    0    0    0 ...     0    0    0    0   \n",
       "4    0    0    0    0    0    0    0    0    0    0 ...     0    0    0    0   \n",
       "\n",
       "   917  918  919  920  921  922  \n",
       "0    0    0    0    0    0    0  \n",
       "1    0    0    0    0    0    0  \n",
       "2    0    0    0    0    0    0  \n",
       "3    0    0    0    0    0    0  \n",
       "4    0    0    0    0    0    0  \n",
       "\n",
       "[5 rows x 923 columns]"
      ]
     },
     "execution_count": 29,
     "metadata": {},
     "output_type": "execute_result"
    }
   ],
   "source": [
    "data3.head()"
   ]
  },
  {
   "cell_type": "code",
   "execution_count": 204,
   "metadata": {},
   "outputs": [
    {
     "data": {
      "text/html": [
       "<div>\n",
       "<style scoped>\n",
       "    .dataframe tbody tr th:only-of-type {\n",
       "        vertical-align: middle;\n",
       "    }\n",
       "\n",
       "    .dataframe tbody tr th {\n",
       "        vertical-align: top;\n",
       "    }\n",
       "\n",
       "    .dataframe thead th {\n",
       "        text-align: right;\n",
       "    }\n",
       "</style>\n",
       "<table border=\"1\" class=\"dataframe\">\n",
       "  <thead>\n",
       "    <tr style=\"text-align: right;\">\n",
       "      <th></th>\n",
       "      <th>0</th>\n",
       "      <th>1</th>\n",
       "      <th>2</th>\n",
       "      <th>3</th>\n",
       "      <th>4</th>\n",
       "      <th>5</th>\n",
       "      <th>6</th>\n",
       "      <th>7</th>\n",
       "      <th>8</th>\n",
       "      <th>9</th>\n",
       "      <th>...</th>\n",
       "      <th>913</th>\n",
       "      <th>914</th>\n",
       "      <th>915</th>\n",
       "      <th>916</th>\n",
       "      <th>917</th>\n",
       "      <th>918</th>\n",
       "      <th>919</th>\n",
       "      <th>920</th>\n",
       "      <th>921</th>\n",
       "      <th>922</th>\n",
       "    </tr>\n",
       "  </thead>\n",
       "  <tbody>\n",
       "    <tr>\n",
       "      <th>0</th>\n",
       "      <td>0.0</td>\n",
       "      <td>0.0</td>\n",
       "      <td>0.0</td>\n",
       "      <td>0.0</td>\n",
       "      <td>0.0</td>\n",
       "      <td>0.0</td>\n",
       "      <td>0.0</td>\n",
       "      <td>0.0</td>\n",
       "      <td>0.0</td>\n",
       "      <td>0.0</td>\n",
       "      <td>...</td>\n",
       "      <td>0.0</td>\n",
       "      <td>0.0</td>\n",
       "      <td>0.0</td>\n",
       "      <td>0.0</td>\n",
       "      <td>0.0</td>\n",
       "      <td>0.0</td>\n",
       "      <td>0.0</td>\n",
       "      <td>0.0</td>\n",
       "      <td>0.0</td>\n",
       "      <td>0.0</td>\n",
       "    </tr>\n",
       "    <tr>\n",
       "      <th>1</th>\n",
       "      <td>0.0</td>\n",
       "      <td>0.0</td>\n",
       "      <td>0.0</td>\n",
       "      <td>0.0</td>\n",
       "      <td>0.0</td>\n",
       "      <td>0.0</td>\n",
       "      <td>0.0</td>\n",
       "      <td>0.0</td>\n",
       "      <td>0.0</td>\n",
       "      <td>0.0</td>\n",
       "      <td>...</td>\n",
       "      <td>0.0</td>\n",
       "      <td>0.0</td>\n",
       "      <td>0.0</td>\n",
       "      <td>0.0</td>\n",
       "      <td>0.0</td>\n",
       "      <td>0.0</td>\n",
       "      <td>0.0</td>\n",
       "      <td>0.0</td>\n",
       "      <td>0.0</td>\n",
       "      <td>0.0</td>\n",
       "    </tr>\n",
       "    <tr>\n",
       "      <th>2</th>\n",
       "      <td>0.0</td>\n",
       "      <td>0.0</td>\n",
       "      <td>0.0</td>\n",
       "      <td>0.0</td>\n",
       "      <td>0.0</td>\n",
       "      <td>0.0</td>\n",
       "      <td>0.0</td>\n",
       "      <td>0.0</td>\n",
       "      <td>0.0</td>\n",
       "      <td>0.0</td>\n",
       "      <td>...</td>\n",
       "      <td>0.0</td>\n",
       "      <td>0.0</td>\n",
       "      <td>0.0</td>\n",
       "      <td>0.0</td>\n",
       "      <td>0.0</td>\n",
       "      <td>0.0</td>\n",
       "      <td>0.0</td>\n",
       "      <td>0.0</td>\n",
       "      <td>0.0</td>\n",
       "      <td>0.0</td>\n",
       "    </tr>\n",
       "    <tr>\n",
       "      <th>3</th>\n",
       "      <td>0.0</td>\n",
       "      <td>0.0</td>\n",
       "      <td>0.0</td>\n",
       "      <td>0.0</td>\n",
       "      <td>0.0</td>\n",
       "      <td>0.0</td>\n",
       "      <td>0.0</td>\n",
       "      <td>0.0</td>\n",
       "      <td>0.0</td>\n",
       "      <td>0.0</td>\n",
       "      <td>...</td>\n",
       "      <td>0.0</td>\n",
       "      <td>0.0</td>\n",
       "      <td>0.0</td>\n",
       "      <td>0.0</td>\n",
       "      <td>0.0</td>\n",
       "      <td>0.0</td>\n",
       "      <td>0.0</td>\n",
       "      <td>0.0</td>\n",
       "      <td>0.0</td>\n",
       "      <td>0.0</td>\n",
       "    </tr>\n",
       "    <tr>\n",
       "      <th>4</th>\n",
       "      <td>0.0</td>\n",
       "      <td>0.0</td>\n",
       "      <td>0.0</td>\n",
       "      <td>0.0</td>\n",
       "      <td>0.0</td>\n",
       "      <td>0.0</td>\n",
       "      <td>0.0</td>\n",
       "      <td>0.0</td>\n",
       "      <td>0.0</td>\n",
       "      <td>0.0</td>\n",
       "      <td>...</td>\n",
       "      <td>0.0</td>\n",
       "      <td>0.0</td>\n",
       "      <td>0.0</td>\n",
       "      <td>0.0</td>\n",
       "      <td>0.0</td>\n",
       "      <td>0.0</td>\n",
       "      <td>0.0</td>\n",
       "      <td>0.0</td>\n",
       "      <td>0.0</td>\n",
       "      <td>0.0</td>\n",
       "    </tr>\n",
       "  </tbody>\n",
       "</table>\n",
       "<p>5 rows × 923 columns</p>\n",
       "</div>"
      ],
      "text/plain": [
       "   0    1    2    3    4    5    6    7    8    9   ...   913  914  915  916  \\\n",
       "0  0.0  0.0  0.0  0.0  0.0  0.0  0.0  0.0  0.0  0.0 ...   0.0  0.0  0.0  0.0   \n",
       "1  0.0  0.0  0.0  0.0  0.0  0.0  0.0  0.0  0.0  0.0 ...   0.0  0.0  0.0  0.0   \n",
       "2  0.0  0.0  0.0  0.0  0.0  0.0  0.0  0.0  0.0  0.0 ...   0.0  0.0  0.0  0.0   \n",
       "3  0.0  0.0  0.0  0.0  0.0  0.0  0.0  0.0  0.0  0.0 ...   0.0  0.0  0.0  0.0   \n",
       "4  0.0  0.0  0.0  0.0  0.0  0.0  0.0  0.0  0.0  0.0 ...   0.0  0.0  0.0  0.0   \n",
       "\n",
       "   917  918  919  920  921  922  \n",
       "0  0.0  0.0  0.0  0.0  0.0  0.0  \n",
       "1  0.0  0.0  0.0  0.0  0.0  0.0  \n",
       "2  0.0  0.0  0.0  0.0  0.0  0.0  \n",
       "3  0.0  0.0  0.0  0.0  0.0  0.0  \n",
       "4  0.0  0.0  0.0  0.0  0.0  0.0  \n",
       "\n",
       "[5 rows x 923 columns]"
      ]
     },
     "execution_count": 204,
     "metadata": {},
     "output_type": "execute_result"
    }
   ],
   "source": [
    "# Normalizing with tweets counts\n",
    "# for i in range(len(data3)):\n",
    "#     if i != 41 and i != 169:\n",
    "#         data3.iloc[i] = data3.iloc[i]/data['count'][i]\n",
    "# data3.head()"
   ]
  },
  {
   "cell_type": "markdown",
   "metadata": {},
   "source": [
    "### PCA"
   ]
  },
  {
   "cell_type": "code",
   "execution_count": 30,
   "metadata": {},
   "outputs": [
    {
     "data": {
      "image/png": "[encoded data removed]",
      "text/plain": [
       "<matplotlib.figure.Figure at 0x1023ebfd0>"
      ]
     },
     "metadata": {},
     "output_type": "display_data"
    }
   ],
   "source": [
    "from sklearn.decomposition import PCA\n",
    "import matplotlib.pyplot as plt\n",
    "%matplotlib inline\n",
    "\n",
    "pca = PCA()\n",
    "X_r = pca.fit(data3).transform(data3)\n",
    "\n",
    "plt.plot(np.cumsum(pca.explained_variance_ratio_))\n",
    "plt.show()"
   ]
  },
  {
   "cell_type": "code",
   "execution_count": 31,
   "metadata": {},
   "outputs": [],
   "source": [
    "pca = PCA(n_components=150)\n",
    "X_r_final = pca.fit(data3).transform(data3)"
   ]
  },
  {
   "cell_type": "code",
   "execution_count": 32,
   "metadata": {},
   "outputs": [],
   "source": [
    "data4 = pd.DataFrame(X_r_final)"
   ]
  },
  {
   "cell_type": "code",
   "execution_count": 33,
   "metadata": {},
   "outputs": [],
   "source": [
    "from sklearn.cross_validation import train_test_split\n",
    "X_train, X_test, y_train, y_test = train_test_split( \n",
    "data4, data['movement'], test_size = 0.25)"
   ]
  },
  {
   "cell_type": "code",
   "execution_count": 34,
   "metadata": {},
   "outputs": [
    {
     "data": {
      "text/plain": [
       "1038"
      ]
     },
     "execution_count": 34,
     "metadata": {},
     "output_type": "execute_result"
    }
   ],
   "source": [
    "len(X_train)"
   ]
  },
  {
   "cell_type": "markdown",
   "metadata": {},
   "source": [
    "### Decision Tree"
   ]
  },
  {
   "cell_type": "code",
   "execution_count": 39,
   "metadata": {},
   "outputs": [
    {
     "name": "stdout",
     "output_type": "stream",
     "text": [
      "Training Accuracy:  1.0\n",
      "Test Accuracy:  0.4697406340057637\n"
     ]
    }
   ],
   "source": [
    "from sklearn.tree import DecisionTreeClassifier\n",
    "from sklearn.metrics import accuracy_score\n",
    "\n",
    "# Building an unpruned decision tree\n",
    "clf1 = DecisionTreeClassifier(criterion=\"entropy\")\n",
    "clf1.fit(X_train,y_train)\n",
    "ypred_train = clf1.predict(X_train)\n",
    "ypred_test = clf1.predict(X_test)\n",
    "print(\"Training Accuracy: \",str(accuracy_score(y_train,ypred_train)))\n",
    "print(\"Test Accuracy: \",str(accuracy_score(y_test,ypred_test)))"
   ]
  },
  {
   "cell_type": "code",
   "execution_count": 40,
   "metadata": {},
   "outputs": [
    {
     "data": {
      "text/plain": [
       "array([[ 57,  97],\n",
       "       [ 87, 106]])"
      ]
     },
     "execution_count": 40,
     "metadata": {},
     "output_type": "execute_result"
    }
   ],
   "source": [
    "from sklearn.metrics import confusion_matrix\n",
    "confusion_matrix(y_test, ypred_test)"
   ]
  },
  {
   "cell_type": "code",
   "execution_count": 41,
   "metadata": {},
   "outputs": [
    {
     "data": {
      "image/png": "[encoded data removed]",
      "text/plain": [
       "<matplotlib.figure.Figure at 0x106c89748>"
      ]
     },
     "metadata": {},
     "output_type": "display_data"
    }
   ],
   "source": [
    "# choose hyperparameter max_depth using cross validation\n",
    "from sklearn.model_selection import KFold\n",
    "from sklearn.model_selection import cross_val_score\n",
    "\n",
    "num_folds = 5\n",
    "param_values = np.arange(1,12,1)\n",
    "scores = []\n",
    "\n",
    "for depth in param_values:\n",
    "    clf1 = DecisionTreeClassifier(criterion = 'entropy', max_depth=depth)\n",
    "    score = cross_val_score(estimator = clf1, X = X_train, y = y_train, cv=5).mean()\n",
    "    scores.append(score)\n",
    "    \n",
    "cross_val_error = [1-s for s in scores]\n",
    "plt.plot(param_values, cross_val_error)\n",
    "plt.xlabel('max depth')\n",
    "plt.ylabel('cross validation error')\n",
    "plt.show()"
   ]
  },
  {
   "cell_type": "code",
   "execution_count": 42,
   "metadata": {},
   "outputs": [
    {
     "name": "stdout",
     "output_type": "stream",
     "text": [
      "Test accuracy: 0.484149855907781\n"
     ]
    }
   ],
   "source": [
    "clf = DecisionTreeClassifier(criterion='entropy',max_depth=2,random_state=91)\n",
    "clf = clf.fit(X_train, y_train)\n",
    "y_pred_dt = clf.predict(X_test)\n",
    "print(\"Test accuracy:\",accuracy_score(y_test, y_pred_dt))"
   ]
  },
  {
   "cell_type": "markdown",
   "metadata": {},
   "source": [
    "### Naive Bayes"
   ]
  },
  {
   "cell_type": "code",
   "execution_count": 43,
   "metadata": {},
   "outputs": [
    {
     "name": "stdout",
     "output_type": "stream",
     "text": [
      "Test accuracy: 0.4783861671469741\n"
     ]
    }
   ],
   "source": [
    "from sklearn.naive_bayes import GaussianNB\n",
    "gnb = GaussianNB()\n",
    "y_pred_nb = gnb.fit(X_train, y_train).predict(X_test)\n",
    "print(\"Test accuracy:\",accuracy_score(y_test, y_pred_nb))"
   ]
  },
  {
   "cell_type": "markdown",
   "metadata": {},
   "source": [
    "### Logistic Regression"
   ]
  },
  {
   "cell_type": "code",
   "execution_count": 44,
   "metadata": {},
   "outputs": [
    {
     "name": "stdout",
     "output_type": "stream",
     "text": [
      "[[ 60  94]\n",
      " [ 82 111]]\n",
      "Training Accuracy:  0.638728323699422\n",
      "Test Accuracy:  0.49279538904899134\n"
     ]
    }
   ],
   "source": [
    "from sklearn import linear_model\n",
    "lr = linear_model.LogisticRegression(C=999999,penalty='l2',multi_class='multinomial',solver='lbfgs',random_state=91)\n",
    "lr.fit(X_train, y_train)\n",
    "y_pred_lr = lr.predict(X_test)\n",
    "from sklearn.metrics import confusion_matrix\n",
    "cnf = confusion_matrix(y_test, y_pred_lr)\n",
    "print(cnf)\n",
    "y_pred_train = lr.predict(X_train)\n",
    "print(\"Training Accuracy: \",str(accuracy_score(y_train,y_pred_train)))\n",
    "print(\"Test Accuracy: \",str(accuracy_score(y_test,y_pred_lr)))"
   ]
  },
  {
   "cell_type": "markdown",
   "metadata": {},
   "source": [
    "### Random Forest"
   ]
  },
  {
   "cell_type": "code",
   "execution_count": 45,
   "metadata": {},
   "outputs": [
    {
     "name": "stdout",
     "output_type": "stream",
     "text": [
      "Training accuracy: 0.5446685878962536\n"
     ]
    }
   ],
   "source": [
    "from sklearn.ensemble import RandomForestClassifier\n",
    "cl = RandomForestClassifier(n_estimators=200,max_features=50,bootstrap=True,criterion='entropy')\n",
    "cl = cl.fit(X_train,y_train)\n",
    "y_pred_rf = cl.predict(X_test)\n",
    "print(\"Training accuracy:\",accuracy_score(y_test,y_pred_rf))"
   ]
  },
  {
   "cell_type": "code",
   "execution_count": 46,
   "metadata": {},
   "outputs": [
    {
     "name": "stdout",
     "output_type": "stream",
     "text": [
      "Test accuracy: 0.5360230547550432\n",
      "{'max_features': 3, 'n_estimators': 200}\n"
     ]
    }
   ],
   "source": [
    "# Grid Search\n",
    "from sklearn.model_selection import GridSearchCV\n",
    "parameters = {'max_features':[3,5,10,15,25,35,45],'n_estimators':[50,100,200,300]}\n",
    "clf_cv = RandomForestClassifier(bootstrap=True,criterion='entropy')\n",
    "clf_cv = GridSearchCV(clf_cv,parameters)\n",
    "clf_cv = clf_cv.fit(X_train,y_train)\n",
    "y_pred_rf = clf_cv.predict(X_test)\n",
    "print(\"Test accuracy:\",accuracy_score(y_test, y_pred_rf))\n",
    "print(clf_cv.best_params_)"
   ]
  },
  {
   "cell_type": "markdown",
   "metadata": {},
   "source": [
    "### Stacking"
   ]
  },
  {
   "cell_type": "code",
   "execution_count": 47,
   "metadata": {},
   "outputs": [
    {
     "name": "stdout",
     "output_type": "stream",
     "text": [
      "Test accuracy: 0.49279538904899134\n"
     ]
    }
   ],
   "source": [
    "from collections import Counter\n",
    "pred = pd.DataFrame({'Desision Tree': y_pred_dt,\n",
    "              'Random Forest': y_pred_rf,\n",
    "              'Naive Bayes': y_pred_nb,\n",
    "              'Logistic Regression': y_pred_lr})\n",
    "y_pred_stacking = []\n",
    "for i in range(len(pred)):\n",
    "    y_pred_stacking.append(Counter(pred.iloc[i]).most_common()[0][0])\n",
    "pred['Stacking Prediction'] = y_pred_stacking\n",
    "print(\"Test accuracy:\",accuracy_score(y_test, y_pred_stacking))"
   ]
  },
  {
   "cell_type": "markdown",
   "metadata": {},
   "source": [
    "## Other Machine Learning Models (using TFIDF) "
   ]
  },
  {
   "cell_type": "code",
   "execution_count": 48,
   "metadata": {},
   "outputs": [],
   "source": [
    "data2 = data.dropna()"
   ]
  },
  {
   "cell_type": "code",
   "execution_count": 49,
   "metadata": {},
   "outputs": [],
   "source": [
    "from sklearn.feature_extraction.text import TfidfVectorizer\n",
    "vectorizer = TfidfVectorizer(max_df=0.5, max_features=1000,\n",
    "                             min_df=2, stop_words='english')\n",
    "tfidf_vec = vectorizer.fit_transform(data2['text'])"
   ]
  },
  {
   "cell_type": "code",
   "execution_count": 50,
   "metadata": {},
   "outputs": [],
   "source": [
    "data4 = pd.DataFrame(tfidf_vec.toarray())\n",
    "from sklearn.cross_validation import train_test_split\n",
    "X_train, X_test, y_train, y_test = train_test_split( \n",
    "data4, data2['movement'], test_size = 0.25)"
   ]
  },
  {
   "cell_type": "markdown",
   "metadata": {},
   "source": [
    "### Decision Tree"
   ]
  },
  {
   "cell_type": "code",
   "execution_count": 51,
   "metadata": {},
   "outputs": [
    {
     "name": "stdout",
     "output_type": "stream",
     "text": [
      "Training Accuracy:  1.0\n",
      "Test Accuracy:  0.5446685878962536\n"
     ]
    }
   ],
   "source": [
    "# Decision Tree\n",
    "from sklearn.tree import DecisionTreeClassifier\n",
    "from sklearn.metrics import accuracy_score\n",
    "\n",
    "# Building an unpruned decision tree\n",
    "clf1 = DecisionTreeClassifier(criterion=\"entropy\")\n",
    "clf1.fit(X_train,y_train)\n",
    "ypred_train = clf1.predict(X_train)\n",
    "ypred_test = clf1.predict(X_test)\n",
    "print(\"Training Accuracy: \",str(accuracy_score(y_train,ypred_train)))\n",
    "print(\"Test Accuracy: \",str(accuracy_score(y_test,ypred_test)))"
   ]
  },
  {
   "cell_type": "code",
   "execution_count": 52,
   "metadata": {},
   "outputs": [
    {
     "data": {
      "image/png": "[encoded data removed]",
      "text/plain": [
       "<matplotlib.figure.Figure at 0x1a08c2e978>"
      ]
     },
     "metadata": {},
     "output_type": "display_data"
    }
   ],
   "source": [
    "from sklearn.model_selection import KFold\n",
    "from sklearn.model_selection import cross_val_score\n",
    "\n",
    "num_folds = 5\n",
    "param_values = np.arange(1,12,1)\n",
    "scores = []\n",
    "\n",
    "for depth in param_values:\n",
    "    clf1 = DecisionTreeClassifier(criterion = 'entropy', max_depth=depth)\n",
    "    score = cross_val_score(estimator = clf1, X = X_train, y = y_train, cv=5).mean()\n",
    "    scores.append(score)\n",
    "    \n",
    "cross_val_error = [1-s for s in scores]\n",
    "plt.plot(param_values, cross_val_error)\n",
    "plt.xlabel('max depth')\n",
    "plt.ylabel('cross validation error')\n",
    "plt.show()"
   ]
  },
  {
   "cell_type": "code",
   "execution_count": 53,
   "metadata": {},
   "outputs": [
    {
     "name": "stdout",
     "output_type": "stream",
     "text": [
      "Test accuracy: 0.5590778097982709\n"
     ]
    }
   ],
   "source": [
    "clf = DecisionTreeClassifier(criterion='entropy',max_depth=2,random_state=91)\n",
    "clf = clf.fit(X_train, y_train)\n",
    "y_pred_dt = clf.predict(X_test)\n",
    "print(\"Test accuracy:\",accuracy_score(y_test, y_pred_dt))"
   ]
  },
  {
   "cell_type": "markdown",
   "metadata": {},
   "source": [
    "### Naive Bayes"
   ]
  },
  {
   "cell_type": "code",
   "execution_count": 54,
   "metadata": {},
   "outputs": [
    {
     "name": "stdout",
     "output_type": "stream",
     "text": [
      "Test accuracy: 0.5043227665706052\n"
     ]
    }
   ],
   "source": [
    "from sklearn.naive_bayes import BernoulliNB\n",
    "gnb = BernoulliNB()\n",
    "y_pred_nb = gnb.fit(X_train, y_train).predict(X_test)\n",
    "print(\"Test accuracy:\",accuracy_score(y_test, y_pred_nb))"
   ]
  },
  {
   "cell_type": "markdown",
   "metadata": {},
   "source": [
    "### Logistic Regression"
   ]
  },
  {
   "cell_type": "code",
   "execution_count": 55,
   "metadata": {},
   "outputs": [
    {
     "name": "stdout",
     "output_type": "stream",
     "text": [
      "[[ 72  81]\n",
      " [ 87 107]]\n",
      "Training Accuracy:  1.0\n",
      "Test Accuracy:  0.515850144092219\n"
     ]
    }
   ],
   "source": [
    "from sklearn import linear_model\n",
    "lr = linear_model.LogisticRegression(C=999999,penalty='l2',multi_class='multinomial',solver='lbfgs',random_state=91)\n",
    "lr.fit(X_train, y_train)\n",
    "y_pred_lr = lr.predict(X_test)\n",
    "from sklearn.metrics import confusion_matrix\n",
    "cnf = confusion_matrix(y_test, y_pred_lr)\n",
    "print(cnf)\n",
    "y_pred_train = lr.predict(X_train)\n",
    "print(\"Training Accuracy: \",str(accuracy_score(y_train,y_pred_train)))\n",
    "print(\"Test Accuracy: \",str(accuracy_score(y_test,y_pred_lr)))"
   ]
  },
  {
   "cell_type": "markdown",
   "metadata": {},
   "source": [
    "### Random Forest"
   ]
  },
  {
   "cell_type": "code",
   "execution_count": 56,
   "metadata": {},
   "outputs": [
    {
     "name": "stdout",
     "output_type": "stream",
     "text": [
      "Training accuracy: 0.5273775216138329\n"
     ]
    }
   ],
   "source": [
    "from sklearn.ensemble import RandomForestClassifier\n",
    "cl = RandomForestClassifier(n_estimators=100,max_features=10,bootstrap=True,criterion='entropy')\n",
    "cl = cl.fit(X_train,y_train)\n",
    "y_pred_rf = cl.predict(X_test)\n",
    "print(\"Training accuracy:\",accuracy_score(y_test,y_pred_rf))"
   ]
  },
  {
   "cell_type": "code",
   "execution_count": 57,
   "metadata": {},
   "outputs": [
    {
     "name": "stdout",
     "output_type": "stream",
     "text": [
      "Test accuracy: 0.5446685878962536\n",
      "{'max_features': 120, 'n_estimators': 200}\n"
     ]
    }
   ],
   "source": [
    "# Grid Search\n",
    "from sklearn.model_selection import GridSearchCV\n",
    "parameters = {'max_features':[30,60,90,120,150,200],'n_estimators':[50,100,200,300]}\n",
    "clf_cv = RandomForestClassifier(bootstrap=True,criterion='entropy')\n",
    "clf_cv = GridSearchCV(clf_cv,parameters)\n",
    "clf_cv = clf_cv.fit(X_train,y_train)\n",
    "y_pred_rf = clf_cv.predict(X_test)\n",
    "print(\"Test accuracy:\",accuracy_score(y_test, y_pred_rf))\n",
    "print(clf_cv.best_params_)"
   ]
  },
  {
   "cell_type": "markdown",
   "metadata": {},
   "source": [
    "### Stacking"
   ]
  },
  {
   "cell_type": "code",
   "execution_count": 58,
   "metadata": {},
   "outputs": [
    {
     "name": "stdout",
     "output_type": "stream",
     "text": [
      "Test accuracy: 0.5504322766570605\n"
     ]
    }
   ],
   "source": [
    "from collections import Counter\n",
    "pred = pd.DataFrame({'Desision Tree': y_pred_dt,\n",
    "              'Random Forest': y_pred_rf,\n",
    "              'Naive Bayes': y_pred_nb,\n",
    "              'Logistic Regression': y_pred_lr})\n",
    "y_pred_stacking = []\n",
    "for i in range(len(pred)):\n",
    "    y_pred_stacking.append(Counter(pred.iloc[i]).most_common()[0][0])\n",
    "pred['Stacking Prediction'] = y_pred_stacking\n",
    "print(\"Test accuracy:\",accuracy_score(y_test, y_pred_stacking))"
   ]
  },
  {
   "cell_type": "code",
   "execution_count": null,
   "metadata": {},
   "outputs": [],
   "source": []
  }
 ],
 "metadata": {
  "kernelspec": {
   "display_name": "Python 3",
   "language": "python",
   "name": "python3"
  },
  "language_info": {
   "codemirror_mode": {
    "name": "ipython",
    "version": 3
   },
   "file_extension": ".py",
   "mimetype": "text/x-python",
   "name": "python",
   "nbconvert_exporter": "python",
   "pygments_lexer": "ipython3",
   "version": "3.6.4"
  }
 },
 "nbformat": 4,
 "nbformat_minor": 2
}
