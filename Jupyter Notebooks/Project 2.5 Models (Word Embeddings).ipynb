{
 "cells": [
  {
   "cell_type": "markdown",
   "metadata": {},
   "source": [
    "Name: Han Chen, Daniel Fernandez Davila"
   ]
  },
  {
   "cell_type": "markdown",
   "metadata": {},
   "source": [
    "### Models\n",
    "I. Baseline Model\n",
    "1. First tried to classify with Lexicon list of Positive and Negative Words from previous Sentiment Analysis Models. \n",
    "2. Count the occurrences of Positive and Negative Words and classify the tweet accordingly (Net sum positive as +1, otherwise -1)   \n",
    "3. The accuracy of this baseline model is 46.54%, lower than a random guess. \n",
    "So we decided to use the random guess as our baseline model, simple and easy.   \n",
    "\n",
    "II. Other models\n",
    "1. We tried three ways to construct our features:  \n",
    "   (1) Bag of Words using CountVectorizer  \n",
    "       Bag of Words simply count the number of occurance of each word in the text corpus.Each word becomes a feature, and the number of occurance is the value.  \n",
    "   (2) TFIDF   \n",
    "       TFIDF also weight each word in the document based on the appearance in the document. This not only reflects the importance of words in the text, but also normalizes each vector.  \n",
    "   (3) Word Embeddings  \n",
    "       Word Embeddings yield the best test accuracy of the models, so we decided to use that for feature selection. We thought the reason might be that word embeddings are capable to capturing the semantic meaning of the words. In our project, each text is converted into a 200 length vector. (In the word embedding approach notebook) \n",
    "2. PCA was applied before running models. Best n_components was chosen by the maximum variance explained of the data.\n",
    "3. We then implemented the models by first chose hyperparameters by grid search/cross validation, and then trained and tested with 75%/25% training and test split.   \n",
    "    Majority voting was introduced to combine all learner together and predict the test data to be the majority vote of each learner. "
   ]
  },
  {
   "cell_type": "markdown",
   "metadata": {},
   "source": [
    "In this script we use the approach of word embeddings"
   ]
  },
  {
   "cell_type": "markdown",
   "metadata": {},
   "source": [
    "## Load the Data"
   ]
  },
  {
   "cell_type": "code",
   "execution_count": 1,
   "metadata": {},
   "outputs": [
    {
     "data": {
      "text/html": [
       "<div>\n",
       "<style scoped>\n",
       "    .dataframe tbody tr th:only-of-type {\n",
       "        vertical-align: middle;\n",
       "    }\n",
       "\n",
       "    .dataframe tbody tr th {\n",
       "        vertical-align: top;\n",
       "    }\n",
       "\n",
       "    .dataframe thead th {\n",
       "        text-align: right;\n",
       "    }\n",
       "</style>\n",
       "<table border=\"1\" class=\"dataframe\">\n",
       "  <thead>\n",
       "    <tr style=\"text-align: right;\">\n",
       "      <th></th>\n",
       "      <th>open</th>\n",
       "      <th>close</th>\n",
       "      <th>change (%)</th>\n",
       "      <th>movement</th>\n",
       "      <th>text</th>\n",
       "      <th>count</th>\n",
       "    </tr>\n",
       "  </thead>\n",
       "  <tbody>\n",
       "    <tr>\n",
       "      <th>0</th>\n",
       "      <td>1345.366757</td>\n",
       "      <td>1342.639048</td>\n",
       "      <td>-0.202748</td>\n",
       "      <td>-1</td>\n",
       "      <td>#Banks vs #cryptocurrency war: Bitfinex, OKcoi...</td>\n",
       "      <td>3</td>\n",
       "    </tr>\n",
       "    <tr>\n",
       "      <th>1</th>\n",
       "      <td>1341.000005</td>\n",
       "      <td>1352.193569</td>\n",
       "      <td>0.834718</td>\n",
       "      <td>1</td>\n",
       "      <td>Bitcoin Origins RT @CHalexov2016: Time to buy ...</td>\n",
       "      <td>11</td>\n",
       "    </tr>\n",
       "    <tr>\n",
       "      <th>2</th>\n",
       "      <td>1352.193569</td>\n",
       "      <td>1336.419090</td>\n",
       "      <td>-1.166584</td>\n",
       "      <td>-1</td>\n",
       "      <td>The end of cash: It xe2 x80 x99s a Bit harder ...</td>\n",
       "      <td>4</td>\n",
       "    </tr>\n",
       "    <tr>\n",
       "      <th>3</th>\n",
       "      <td>1336.020000</td>\n",
       "      <td>1347.399011</td>\n",
       "      <td>0.851710</td>\n",
       "      <td>1</td>\n",
       "      <td>#BitcoinUnlimited is production ready guys. RT...</td>\n",
       "      <td>13</td>\n",
       "    </tr>\n",
       "    <tr>\n",
       "      <th>4</th>\n",
       "      <td>1346.862890</td>\n",
       "      <td>1364.896000</td>\n",
       "      <td>1.338897</td>\n",
       "      <td>1</td>\n",
       "      <td>RT @btc_manager: Character Assassins for Hire:...</td>\n",
       "      <td>5</td>\n",
       "    </tr>\n",
       "  </tbody>\n",
       "</table>\n",
       "</div>"
      ],
      "text/plain": [
       "          open        close  change (%)  movement  \\\n",
       "0  1345.366757  1342.639048   -0.202748        -1   \n",
       "1  1341.000005  1352.193569    0.834718         1   \n",
       "2  1352.193569  1336.419090   -1.166584        -1   \n",
       "3  1336.020000  1347.399011    0.851710         1   \n",
       "4  1346.862890  1364.896000    1.338897         1   \n",
       "\n",
       "                                                text  count  \n",
       "0  #Banks vs #cryptocurrency war: Bitfinex, OKcoi...      3  \n",
       "1  Bitcoin Origins RT @CHalexov2016: Time to buy ...     11  \n",
       "2  The end of cash: It xe2 x80 x99s a Bit harder ...      4  \n",
       "3  #BitcoinUnlimited is production ready guys. RT...     13  \n",
       "4  RT @btc_manager: Character Assassins for Hire:...      5  "
      ]
     },
     "execution_count": 1,
     "metadata": {},
     "output_type": "execute_result"
    }
   ],
   "source": [
    "import pandas as pd\n",
    "data = pd.read_csv('data_to_ml_models.csv',encoding='utf-8')\n",
    "data = data.drop(['Unnamed: 0'], axis = 1)\n",
    "data.head()"
   ]
  },
  {
   "cell_type": "markdown",
   "metadata": {},
   "source": [
    "# Reading Embeddings"
   ]
  },
  {
   "cell_type": "code",
   "execution_count": 143,
   "metadata": {
    "scrolled": true
   },
   "outputs": [
    {
     "data": {
      "text/html": [
       "<div>\n",
       "<style scoped>\n",
       "    .dataframe tbody tr th:only-of-type {\n",
       "        vertical-align: middle;\n",
       "    }\n",
       "\n",
       "    .dataframe tbody tr th {\n",
       "        vertical-align: top;\n",
       "    }\n",
       "\n",
       "    .dataframe thead th {\n",
       "        text-align: right;\n",
       "    }\n",
       "</style>\n",
       "<table border=\"1\" class=\"dataframe\">\n",
       "  <thead>\n",
       "    <tr style=\"text-align: right;\">\n",
       "      <th></th>\n",
       "      <th>Unnamed: 0.1</th>\n",
       "      <th>open</th>\n",
       "      <th>close</th>\n",
       "      <th>change (%)</th>\n",
       "      <th>movement</th>\n",
       "      <th>text</th>\n",
       "      <th>count</th>\n",
       "      <th>0</th>\n",
       "      <th>1</th>\n",
       "      <th>2</th>\n",
       "      <th>...</th>\n",
       "      <th>190</th>\n",
       "      <th>191</th>\n",
       "      <th>192</th>\n",
       "      <th>193</th>\n",
       "      <th>194</th>\n",
       "      <th>195</th>\n",
       "      <th>196</th>\n",
       "      <th>197</th>\n",
       "      <th>198</th>\n",
       "      <th>199</th>\n",
       "    </tr>\n",
       "  </thead>\n",
       "  <tbody>\n",
       "    <tr>\n",
       "      <th>0</th>\n",
       "      <td>2017-04-23 00:00:00</td>\n",
       "      <td>1345.366757</td>\n",
       "      <td>1342.072943</td>\n",
       "      <td>-0.244827</td>\n",
       "      <td>-1</td>\n",
       "      <td>['banks', 'vs', 'cryptocurrency', 'war', 'bitf...</td>\n",
       "      <td>1</td>\n",
       "      <td>-0.012624</td>\n",
       "      <td>0.221876</td>\n",
       "      <td>-0.038813</td>\n",
       "      <td>...</td>\n",
       "      <td>0.206866</td>\n",
       "      <td>-0.248529</td>\n",
       "      <td>0.038347</td>\n",
       "      <td>-0.047112</td>\n",
       "      <td>0.039724</td>\n",
       "      <td>-0.030455</td>\n",
       "      <td>0.148470</td>\n",
       "      <td>0.077294</td>\n",
       "      <td>0.030096</td>\n",
       "      <td>0.083379</td>\n",
       "    </tr>\n",
       "    <tr>\n",
       "      <th>1</th>\n",
       "      <td>2017-04-23 06:00:00</td>\n",
       "      <td>1342.072943</td>\n",
       "      <td>1342.639048</td>\n",
       "      <td>0.042181</td>\n",
       "      <td>1</td>\n",
       "      <td>['the', 'scaling', 'debate', 'reminds', 'feedi...</td>\n",
       "      <td>2</td>\n",
       "      <td>0.058964</td>\n",
       "      <td>-0.025817</td>\n",
       "      <td>0.182265</td>\n",
       "      <td>...</td>\n",
       "      <td>-0.086966</td>\n",
       "      <td>-0.197172</td>\n",
       "      <td>0.062457</td>\n",
       "      <td>0.022088</td>\n",
       "      <td>0.109503</td>\n",
       "      <td>-0.124608</td>\n",
       "      <td>0.182209</td>\n",
       "      <td>0.133733</td>\n",
       "      <td>-0.014163</td>\n",
       "      <td>0.106185</td>\n",
       "    </tr>\n",
       "    <tr>\n",
       "      <th>2</th>\n",
       "      <td>2017-04-23 12:00:00</td>\n",
       "      <td>1341.000005</td>\n",
       "      <td>1349.856978</td>\n",
       "      <td>0.660475</td>\n",
       "      <td>1</td>\n",
       "      <td>['origins', 'rt', 'time', 'buy', 'cheap', 'crb...</td>\n",
       "      <td>6</td>\n",
       "      <td>-0.031529</td>\n",
       "      <td>0.211298</td>\n",
       "      <td>-0.116589</td>\n",
       "      <td>...</td>\n",
       "      <td>0.050164</td>\n",
       "      <td>0.033500</td>\n",
       "      <td>0.113346</td>\n",
       "      <td>-0.108261</td>\n",
       "      <td>0.045596</td>\n",
       "      <td>0.081966</td>\n",
       "      <td>0.067613</td>\n",
       "      <td>0.163596</td>\n",
       "      <td>0.011211</td>\n",
       "      <td>0.054668</td>\n",
       "    </tr>\n",
       "    <tr>\n",
       "      <th>3</th>\n",
       "      <td>2017-04-23 18:00:00</td>\n",
       "      <td>1348.405313</td>\n",
       "      <td>1352.193569</td>\n",
       "      <td>0.280943</td>\n",
       "      <td>1</td>\n",
       "      <td>['le', 'crypto', 'sigh', 'short', 'btc', 'vs',...</td>\n",
       "      <td>5</td>\n",
       "      <td>0.071112</td>\n",
       "      <td>0.110933</td>\n",
       "      <td>-0.048036</td>\n",
       "      <td>...</td>\n",
       "      <td>0.121811</td>\n",
       "      <td>-0.048703</td>\n",
       "      <td>0.069157</td>\n",
       "      <td>-0.076344</td>\n",
       "      <td>0.097576</td>\n",
       "      <td>0.006364</td>\n",
       "      <td>0.037520</td>\n",
       "      <td>0.183348</td>\n",
       "      <td>0.005154</td>\n",
       "      <td>0.054413</td>\n",
       "    </tr>\n",
       "    <tr>\n",
       "      <th>4</th>\n",
       "      <td>2017-04-24 00:00:00</td>\n",
       "      <td>1352.193569</td>\n",
       "      <td>1351.000000</td>\n",
       "      <td>-0.088269</td>\n",
       "      <td>-1</td>\n",
       "      <td>['the', 'end', 'cash', 'it', 'bit', 'harder', ...</td>\n",
       "      <td>1</td>\n",
       "      <td>-0.047409</td>\n",
       "      <td>0.187053</td>\n",
       "      <td>0.027211</td>\n",
       "      <td>...</td>\n",
       "      <td>0.101252</td>\n",
       "      <td>-0.136425</td>\n",
       "      <td>0.150778</td>\n",
       "      <td>-0.203710</td>\n",
       "      <td>0.307542</td>\n",
       "      <td>-0.118546</td>\n",
       "      <td>-0.082693</td>\n",
       "      <td>0.377706</td>\n",
       "      <td>-0.112183</td>\n",
       "      <td>-0.139353</td>\n",
       "    </tr>\n",
       "  </tbody>\n",
       "</table>\n",
       "<p>5 rows × 207 columns</p>\n",
       "</div>"
      ],
      "text/plain": [
       "          Unnamed: 0.1         open        close  change (%)  movement  \\\n",
       "0  2017-04-23 00:00:00  1345.366757  1342.072943   -0.244827        -1   \n",
       "1  2017-04-23 06:00:00  1342.072943  1342.639048    0.042181         1   \n",
       "2  2017-04-23 12:00:00  1341.000005  1349.856978    0.660475         1   \n",
       "3  2017-04-23 18:00:00  1348.405313  1352.193569    0.280943         1   \n",
       "4  2017-04-24 00:00:00  1352.193569  1351.000000   -0.088269        -1   \n",
       "\n",
       "                                                text  count         0  \\\n",
       "0  ['banks', 'vs', 'cryptocurrency', 'war', 'bitf...      1 -0.012624   \n",
       "1  ['the', 'scaling', 'debate', 'reminds', 'feedi...      2  0.058964   \n",
       "2  ['origins', 'rt', 'time', 'buy', 'cheap', 'crb...      6 -0.031529   \n",
       "3  ['le', 'crypto', 'sigh', 'short', 'btc', 'vs',...      5  0.071112   \n",
       "4  ['the', 'end', 'cash', 'it', 'bit', 'harder', ...      1 -0.047409   \n",
       "\n",
       "          1         2    ...          190       191       192       193  \\\n",
       "0  0.221876 -0.038813    ...     0.206866 -0.248529  0.038347 -0.047112   \n",
       "1 -0.025817  0.182265    ...    -0.086966 -0.197172  0.062457  0.022088   \n",
       "2  0.211298 -0.116589    ...     0.050164  0.033500  0.113346 -0.108261   \n",
       "3  0.110933 -0.048036    ...     0.121811 -0.048703  0.069157 -0.076344   \n",
       "4  0.187053  0.027211    ...     0.101252 -0.136425  0.150778 -0.203710   \n",
       "\n",
       "        194       195       196       197       198       199  \n",
       "0  0.039724 -0.030455  0.148470  0.077294  0.030096  0.083379  \n",
       "1  0.109503 -0.124608  0.182209  0.133733 -0.014163  0.106185  \n",
       "2  0.045596  0.081966  0.067613  0.163596  0.011211  0.054668  \n",
       "3  0.097576  0.006364  0.037520  0.183348  0.005154  0.054413  \n",
       "4  0.307542 -0.118546 -0.082693  0.377706 -0.112183 -0.139353  \n",
       "\n",
       "[5 rows x 207 columns]"
      ]
     },
     "execution_count": 143,
     "metadata": {},
     "output_type": "execute_result"
    }
   ],
   "source": [
    "data = pd.read_csv('base_embeddings_6.csv')\n",
    "data = data.drop(['Unnamed: 0'], axis = 1)"
   ]
  },
  {
   "cell_type": "code",
   "execution_count": 145,
   "metadata": {},
   "outputs": [
    {
     "data": {
      "text/plain": [
       " 1    758\n",
       "-1    626\n",
       " 0      1\n",
       "Name: movement, dtype: int64"
      ]
     },
     "execution_count": 145,
     "metadata": {},
     "output_type": "execute_result"
    }
   ],
   "source": [
    "data.movement.value_counts()"
   ]
  },
  {
   "cell_type": "markdown",
   "metadata": {},
   "source": [
    "## Adding the previous movement as a present attribute\n",
    "We added 10 attributes (the past 60 hours) to record the lag movement of the market. "
   ]
  },
  {
   "cell_type": "code",
   "execution_count": 180,
   "metadata": {},
   "outputs": [],
   "source": [
    "data['prev'] = data.movement.shift()\n",
    "data['prev1'] = data.movement.shift(2)\n",
    "data['prev2'] = data.movement.shift(3)\n",
    "data['prev3'] = data.movement.shift(4)\n",
    "data['prev4'] = data.movement.shift(5)\n",
    "data['prev5'] = data.movement.shift(6)\n",
    "data['prev6'] = data.movement.shift(7)\n",
    "data['prev7'] = data.movement.shift(8)\n",
    "data['prev8'] = data.movement.shift(9)\n",
    "data['prev9'] = data.movement.shift(10)"
   ]
  },
  {
   "cell_type": "code",
   "execution_count": 181,
   "metadata": {},
   "outputs": [
    {
     "data": {
      "text/html": [
       "<div>\n",
       "<style scoped>\n",
       "    .dataframe tbody tr th:only-of-type {\n",
       "        vertical-align: middle;\n",
       "    }\n",
       "\n",
       "    .dataframe tbody tr th {\n",
       "        vertical-align: top;\n",
       "    }\n",
       "\n",
       "    .dataframe thead th {\n",
       "        text-align: right;\n",
       "    }\n",
       "</style>\n",
       "<table border=\"1\" class=\"dataframe\">\n",
       "  <thead>\n",
       "    <tr style=\"text-align: right;\">\n",
       "      <th></th>\n",
       "      <th>Unnamed: 0.1</th>\n",
       "      <th>open</th>\n",
       "      <th>close</th>\n",
       "      <th>change (%)</th>\n",
       "      <th>movement</th>\n",
       "      <th>text</th>\n",
       "      <th>count</th>\n",
       "      <th>0</th>\n",
       "      <th>1</th>\n",
       "      <th>2</th>\n",
       "      <th>...</th>\n",
       "      <th>prev</th>\n",
       "      <th>prev1</th>\n",
       "      <th>prev2</th>\n",
       "      <th>prev3</th>\n",
       "      <th>prev4</th>\n",
       "      <th>prev5</th>\n",
       "      <th>prev6</th>\n",
       "      <th>prev7</th>\n",
       "      <th>prev8</th>\n",
       "      <th>prev9</th>\n",
       "    </tr>\n",
       "  </thead>\n",
       "  <tbody>\n",
       "    <tr>\n",
       "      <th>0</th>\n",
       "      <td>2017-04-23 00:00:00</td>\n",
       "      <td>1345.366757</td>\n",
       "      <td>1342.072943</td>\n",
       "      <td>-0.244827</td>\n",
       "      <td>-1</td>\n",
       "      <td>['banks', 'vs', 'cryptocurrency', 'war', 'bitf...</td>\n",
       "      <td>1</td>\n",
       "      <td>-0.012624</td>\n",
       "      <td>0.221876</td>\n",
       "      <td>-0.038813</td>\n",
       "      <td>...</td>\n",
       "      <td>NaN</td>\n",
       "      <td>NaN</td>\n",
       "      <td>NaN</td>\n",
       "      <td>NaN</td>\n",
       "      <td>NaN</td>\n",
       "      <td>NaN</td>\n",
       "      <td>NaN</td>\n",
       "      <td>NaN</td>\n",
       "      <td>NaN</td>\n",
       "      <td>NaN</td>\n",
       "    </tr>\n",
       "    <tr>\n",
       "      <th>1</th>\n",
       "      <td>2017-04-23 06:00:00</td>\n",
       "      <td>1342.072943</td>\n",
       "      <td>1342.639048</td>\n",
       "      <td>0.042181</td>\n",
       "      <td>1</td>\n",
       "      <td>['the', 'scaling', 'debate', 'reminds', 'feedi...</td>\n",
       "      <td>2</td>\n",
       "      <td>0.058964</td>\n",
       "      <td>-0.025817</td>\n",
       "      <td>0.182265</td>\n",
       "      <td>...</td>\n",
       "      <td>-1.0</td>\n",
       "      <td>NaN</td>\n",
       "      <td>NaN</td>\n",
       "      <td>NaN</td>\n",
       "      <td>NaN</td>\n",
       "      <td>NaN</td>\n",
       "      <td>NaN</td>\n",
       "      <td>NaN</td>\n",
       "      <td>NaN</td>\n",
       "      <td>NaN</td>\n",
       "    </tr>\n",
       "    <tr>\n",
       "      <th>2</th>\n",
       "      <td>2017-04-23 12:00:00</td>\n",
       "      <td>1341.000005</td>\n",
       "      <td>1349.856978</td>\n",
       "      <td>0.660475</td>\n",
       "      <td>1</td>\n",
       "      <td>['origins', 'rt', 'time', 'buy', 'cheap', 'crb...</td>\n",
       "      <td>6</td>\n",
       "      <td>-0.031529</td>\n",
       "      <td>0.211298</td>\n",
       "      <td>-0.116589</td>\n",
       "      <td>...</td>\n",
       "      <td>1.0</td>\n",
       "      <td>-1.0</td>\n",
       "      <td>NaN</td>\n",
       "      <td>NaN</td>\n",
       "      <td>NaN</td>\n",
       "      <td>NaN</td>\n",
       "      <td>NaN</td>\n",
       "      <td>NaN</td>\n",
       "      <td>NaN</td>\n",
       "      <td>NaN</td>\n",
       "    </tr>\n",
       "    <tr>\n",
       "      <th>3</th>\n",
       "      <td>2017-04-23 18:00:00</td>\n",
       "      <td>1348.405313</td>\n",
       "      <td>1352.193569</td>\n",
       "      <td>0.280943</td>\n",
       "      <td>1</td>\n",
       "      <td>['le', 'crypto', 'sigh', 'short', 'btc', 'vs',...</td>\n",
       "      <td>5</td>\n",
       "      <td>0.071112</td>\n",
       "      <td>0.110933</td>\n",
       "      <td>-0.048036</td>\n",
       "      <td>...</td>\n",
       "      <td>1.0</td>\n",
       "      <td>1.0</td>\n",
       "      <td>-1.0</td>\n",
       "      <td>NaN</td>\n",
       "      <td>NaN</td>\n",
       "      <td>NaN</td>\n",
       "      <td>NaN</td>\n",
       "      <td>NaN</td>\n",
       "      <td>NaN</td>\n",
       "      <td>NaN</td>\n",
       "    </tr>\n",
       "    <tr>\n",
       "      <th>4</th>\n",
       "      <td>2017-04-24 00:00:00</td>\n",
       "      <td>1352.193569</td>\n",
       "      <td>1351.000000</td>\n",
       "      <td>-0.088269</td>\n",
       "      <td>-1</td>\n",
       "      <td>['the', 'end', 'cash', 'it', 'bit', 'harder', ...</td>\n",
       "      <td>1</td>\n",
       "      <td>-0.047409</td>\n",
       "      <td>0.187053</td>\n",
       "      <td>0.027211</td>\n",
       "      <td>...</td>\n",
       "      <td>1.0</td>\n",
       "      <td>1.0</td>\n",
       "      <td>1.0</td>\n",
       "      <td>-1.0</td>\n",
       "      <td>NaN</td>\n",
       "      <td>NaN</td>\n",
       "      <td>NaN</td>\n",
       "      <td>NaN</td>\n",
       "      <td>NaN</td>\n",
       "      <td>NaN</td>\n",
       "    </tr>\n",
       "  </tbody>\n",
       "</table>\n",
       "<p>5 rows × 217 columns</p>\n",
       "</div>"
      ],
      "text/plain": [
       "          Unnamed: 0.1         open        close  change (%)  movement  \\\n",
       "0  2017-04-23 00:00:00  1345.366757  1342.072943   -0.244827        -1   \n",
       "1  2017-04-23 06:00:00  1342.072943  1342.639048    0.042181         1   \n",
       "2  2017-04-23 12:00:00  1341.000005  1349.856978    0.660475         1   \n",
       "3  2017-04-23 18:00:00  1348.405313  1352.193569    0.280943         1   \n",
       "4  2017-04-24 00:00:00  1352.193569  1351.000000   -0.088269        -1   \n",
       "\n",
       "                                                text  count         0  \\\n",
       "0  ['banks', 'vs', 'cryptocurrency', 'war', 'bitf...      1 -0.012624   \n",
       "1  ['the', 'scaling', 'debate', 'reminds', 'feedi...      2  0.058964   \n",
       "2  ['origins', 'rt', 'time', 'buy', 'cheap', 'crb...      6 -0.031529   \n",
       "3  ['le', 'crypto', 'sigh', 'short', 'btc', 'vs',...      5  0.071112   \n",
       "4  ['the', 'end', 'cash', 'it', 'bit', 'harder', ...      1 -0.047409   \n",
       "\n",
       "          1         2  ...    prev  prev1  prev2  prev3  prev4  prev5  prev6  \\\n",
       "0  0.221876 -0.038813  ...     NaN    NaN    NaN    NaN    NaN    NaN    NaN   \n",
       "1 -0.025817  0.182265  ...    -1.0    NaN    NaN    NaN    NaN    NaN    NaN   \n",
       "2  0.211298 -0.116589  ...     1.0   -1.0    NaN    NaN    NaN    NaN    NaN   \n",
       "3  0.110933 -0.048036  ...     1.0    1.0   -1.0    NaN    NaN    NaN    NaN   \n",
       "4  0.187053  0.027211  ...     1.0    1.0    1.0   -1.0    NaN    NaN    NaN   \n",
       "\n",
       "   prev7  prev8  prev9  \n",
       "0    NaN    NaN    NaN  \n",
       "1    NaN    NaN    NaN  \n",
       "2    NaN    NaN    NaN  \n",
       "3    NaN    NaN    NaN  \n",
       "4    NaN    NaN    NaN  \n",
       "\n",
       "[5 rows x 217 columns]"
      ]
     },
     "execution_count": 181,
     "metadata": {},
     "output_type": "execute_result"
    }
   ],
   "source": [
    "data.head()"
   ]
  },
  {
   "cell_type": "markdown",
   "metadata": {},
   "source": [
    "## Balancing the data"
   ]
  },
  {
   "cell_type": "code",
   "execution_count": 182,
   "metadata": {},
   "outputs": [
    {
     "data": {
      "text/plain": [
       "count    1252.0000\n",
       "mean        0.0000\n",
       "std         1.0004\n",
       "min        -1.0000\n",
       "25%        -1.0000\n",
       "50%         0.0000\n",
       "75%         1.0000\n",
       "max         1.0000\n",
       "Name: movement, dtype: float64"
      ]
     },
     "execution_count": 182,
     "metadata": {},
     "output_type": "execute_result"
    }
   ],
   "source": [
    "#Balancinga data\n",
    "data_up = data[data['movement'] == 1]\n",
    "data_down = data[data['movement'] == -1]\n",
    "data_balanced = data_down.sample(n= 626).append(data_up.sample(n=626))\n",
    "data_balanced.loc[:,'movement'].describe()"
   ]
  },
  {
   "cell_type": "markdown",
   "metadata": {},
   "source": [
    "## Normalize"
   ]
  },
  {
   "cell_type": "markdown",
   "metadata": {},
   "source": [
    "### In case case of word2vec, normalizalize"
   ]
  },
  {
   "cell_type": "code",
   "execution_count": 184,
   "metadata": {},
   "outputs": [],
   "source": [
    "data_balanced = data_balanced.dropna()"
   ]
  },
  {
   "cell_type": "code",
   "execution_count": 185,
   "metadata": {},
   "outputs": [],
   "source": [
    "from sklearn.preprocessing import normalize\n",
    "base2 = pd.DataFrame(normalize(data_balanced.iloc[:,6:], axis = 1))"
   ]
  },
  {
   "cell_type": "code",
   "execution_count": 187,
   "metadata": {},
   "outputs": [
    {
     "data": {
      "text/plain": [
       "<matplotlib.collections.PathCollection at 0x1a219146a0>"
      ]
     },
     "execution_count": 187,
     "metadata": {},
     "output_type": "execute_result"
    },
    {
     "data": {
      "image/png": "[encoded data removed]",
      "text/plain": [
       "<Figure size 432x288 with 1 Axes>"
      ]
     },
     "metadata": {},
     "output_type": "display_data"
    }
   ],
   "source": [
    "from sklearn.decomposition import PCA\n",
    "import matplotlib.pyplot as plt\n",
    "\n",
    "pca = PCA(n_components=100)\n",
    "X_r = pca.fit(base2).transform(base2)\n",
    "#X_r = pca.fit(data.iloc[:,7:]).transform(data.iloc[:,7:])\n",
    "\n",
    "# plot\n",
    "plt.scatter(X_r[:, 0], X_r[:, 1])\n",
    "#plt.xlim(-20,20)\n",
    "\n",
    "# display variance explained\n",
    "#print('Explained variance ratio for the principal component axes:', pca.explained_variance_ratio_)"
   ]
  },
  {
   "cell_type": "code",
   "execution_count": 188,
   "metadata": {},
   "outputs": [
    {
     "data": {
      "text/plain": [
       "[<matplotlib.lines.Line2D at 0x1a2175ac18>]"
      ]
     },
     "execution_count": 188,
     "metadata": {},
     "output_type": "execute_result"
    },
    {
     "data": {
      "image/png": "[encoded data removed]",
      "text/plain": [
       "<Figure size 432x288 with 1 Axes>"
      ]
     },
     "metadata": {},
     "output_type": "display_data"
    }
   ],
   "source": [
    "import numpy as np\n",
    "plt.plot(np.cumsum(pca.explained_variance_ratio_))"
   ]
  },
  {
   "cell_type": "code",
   "execution_count": 189,
   "metadata": {},
   "outputs": [
    {
     "data": {
      "text/html": [
       "<div>\n",
       "<style scoped>\n",
       "    .dataframe tbody tr th:only-of-type {\n",
       "        vertical-align: middle;\n",
       "    }\n",
       "\n",
       "    .dataframe tbody tr th {\n",
       "        vertical-align: top;\n",
       "    }\n",
       "\n",
       "    .dataframe thead th {\n",
       "        text-align: right;\n",
       "    }\n",
       "</style>\n",
       "<table border=\"1\" class=\"dataframe\">\n",
       "  <thead>\n",
       "    <tr style=\"text-align: right;\">\n",
       "      <th></th>\n",
       "      <th>0</th>\n",
       "      <th>1</th>\n",
       "      <th>2</th>\n",
       "      <th>3</th>\n",
       "      <th>4</th>\n",
       "      <th>5</th>\n",
       "      <th>6</th>\n",
       "      <th>7</th>\n",
       "      <th>8</th>\n",
       "      <th>9</th>\n",
       "      <th>10</th>\n",
       "      <th>11</th>\n",
       "      <th>12</th>\n",
       "      <th>13</th>\n",
       "      <th>14</th>\n",
       "      <th>15</th>\n",
       "    </tr>\n",
       "  </thead>\n",
       "  <tbody>\n",
       "    <tr>\n",
       "      <th>0</th>\n",
       "      <td>0.060789</td>\n",
       "      <td>0.086180</td>\n",
       "      <td>-0.049658</td>\n",
       "      <td>0.049041</td>\n",
       "      <td>0.039798</td>\n",
       "      <td>0.028154</td>\n",
       "      <td>-0.063442</td>\n",
       "      <td>0.087339</td>\n",
       "      <td>0.137370</td>\n",
       "      <td>-0.032673</td>\n",
       "      <td>0.003442</td>\n",
       "      <td>-0.062373</td>\n",
       "      <td>-0.004296</td>\n",
       "      <td>0.012954</td>\n",
       "      <td>-0.001948</td>\n",
       "      <td>0.011634</td>\n",
       "    </tr>\n",
       "    <tr>\n",
       "      <th>1</th>\n",
       "      <td>0.237849</td>\n",
       "      <td>-0.011767</td>\n",
       "      <td>-0.011277</td>\n",
       "      <td>-0.012278</td>\n",
       "      <td>0.097384</td>\n",
       "      <td>-0.278492</td>\n",
       "      <td>0.013838</td>\n",
       "      <td>-0.066179</td>\n",
       "      <td>-0.110490</td>\n",
       "      <td>0.043489</td>\n",
       "      <td>-0.073825</td>\n",
       "      <td>-0.096944</td>\n",
       "      <td>0.008731</td>\n",
       "      <td>-0.004458</td>\n",
       "      <td>0.016457</td>\n",
       "      <td>0.009655</td>\n",
       "    </tr>\n",
       "    <tr>\n",
       "      <th>2</th>\n",
       "      <td>0.311957</td>\n",
       "      <td>0.201232</td>\n",
       "      <td>0.010558</td>\n",
       "      <td>0.091132</td>\n",
       "      <td>-0.098739</td>\n",
       "      <td>-0.015325</td>\n",
       "      <td>-0.188149</td>\n",
       "      <td>0.153060</td>\n",
       "      <td>-0.067750</td>\n",
       "      <td>-0.068355</td>\n",
       "      <td>0.184674</td>\n",
       "      <td>0.002140</td>\n",
       "      <td>0.002370</td>\n",
       "      <td>-0.045934</td>\n",
       "      <td>-0.006880</td>\n",
       "      <td>0.011744</td>\n",
       "    </tr>\n",
       "    <tr>\n",
       "      <th>3</th>\n",
       "      <td>-0.104360</td>\n",
       "      <td>0.020876</td>\n",
       "      <td>0.048985</td>\n",
       "      <td>-0.026895</td>\n",
       "      <td>0.007523</td>\n",
       "      <td>-0.013937</td>\n",
       "      <td>-0.013746</td>\n",
       "      <td>0.017431</td>\n",
       "      <td>-0.003492</td>\n",
       "      <td>-0.017973</td>\n",
       "      <td>-0.025499</td>\n",
       "      <td>0.008952</td>\n",
       "      <td>0.000532</td>\n",
       "      <td>0.002602</td>\n",
       "      <td>0.002067</td>\n",
       "      <td>-0.004379</td>\n",
       "    </tr>\n",
       "    <tr>\n",
       "      <th>4</th>\n",
       "      <td>0.222028</td>\n",
       "      <td>-0.057210</td>\n",
       "      <td>-0.042307</td>\n",
       "      <td>-0.035032</td>\n",
       "      <td>0.205191</td>\n",
       "      <td>-0.014171</td>\n",
       "      <td>-0.022780</td>\n",
       "      <td>0.024703</td>\n",
       "      <td>-0.070817</td>\n",
       "      <td>0.015216</td>\n",
       "      <td>0.220324</td>\n",
       "      <td>-0.064531</td>\n",
       "      <td>0.013181</td>\n",
       "      <td>-0.010245</td>\n",
       "      <td>-0.011015</td>\n",
       "      <td>0.002417</td>\n",
       "    </tr>\n",
       "  </tbody>\n",
       "</table>\n",
       "</div>"
      ],
      "text/plain": [
       "         0         1         2         3         4         5         6   \\\n",
       "0  0.060789  0.086180 -0.049658  0.049041  0.039798  0.028154 -0.063442   \n",
       "1  0.237849 -0.011767 -0.011277 -0.012278  0.097384 -0.278492  0.013838   \n",
       "2  0.311957  0.201232  0.010558  0.091132 -0.098739 -0.015325 -0.188149   \n",
       "3 -0.104360  0.020876  0.048985 -0.026895  0.007523 -0.013937 -0.013746   \n",
       "4  0.222028 -0.057210 -0.042307 -0.035032  0.205191 -0.014171 -0.022780   \n",
       "\n",
       "         7         8         9         10        11        12        13  \\\n",
       "0  0.087339  0.137370 -0.032673  0.003442 -0.062373 -0.004296  0.012954   \n",
       "1 -0.066179 -0.110490  0.043489 -0.073825 -0.096944  0.008731 -0.004458   \n",
       "2  0.153060 -0.067750 -0.068355  0.184674  0.002140  0.002370 -0.045934   \n",
       "3  0.017431 -0.003492 -0.017973 -0.025499  0.008952  0.000532  0.002602   \n",
       "4  0.024703 -0.070817  0.015216  0.220324 -0.064531  0.013181 -0.010245   \n",
       "\n",
       "         14        15  \n",
       "0 -0.001948  0.011634  \n",
       "1  0.016457  0.009655  \n",
       "2 -0.006880  0.011744  \n",
       "3  0.002067 -0.004379  \n",
       "4 -0.011015  0.002417  "
      ]
     },
     "execution_count": 189,
     "metadata": {},
     "output_type": "execute_result"
    }
   ],
   "source": [
    "pca = PCA(n_components=16)\n",
    "# For word2vec\n",
    "#X_r_final = pca.fit(data.iloc[:,7:]).transform(data.iloc[:,7:])\n",
    "X_r_final = pca.fit(base2).transform(base2)\n",
    "base_model = pd.DataFrame(X_r_final)\n",
    "\n",
    "base_model.head()"
   ]
  },
  {
   "cell_type": "markdown",
   "metadata": {},
   "source": [
    "# Models"
   ]
  },
  {
   "cell_type": "markdown",
   "metadata": {},
   "source": [
    "# Decision Tree"
   ]
  },
  {
   "cell_type": "code",
   "execution_count": 154,
   "metadata": {},
   "outputs": [],
   "source": [
    "# In case of word2vec\n",
    "from sklearn.cross_validation import train_test_split\n",
    "X_train, X_test, y_train, y_test = train_test_split(\n",
    "base_model, data_balanced['movement'], test_size = 0.30, random_state = 1)"
   ]
  },
  {
   "cell_type": "markdown",
   "metadata": {},
   "source": [
    "# Decision Tree"
   ]
  },
  {
   "cell_type": "code",
   "execution_count": 155,
   "metadata": {},
   "outputs": [
    {
     "name": "stdout",
     "output_type": "stream",
     "text": [
      "C: DecisionTreeClassifier(class_weight=None, criterion='entropy', max_depth=11,\n",
      "            max_features=None, max_leaf_nodes=None,\n",
      "            min_impurity_decrease=0.0, min_impurity_split=None,\n",
      "            min_samples_leaf=1, min_samples_split=2,\n",
      "            min_weight_fraction_leaf=0.0, presort=False, random_state=None,\n",
      "            splitter='best')  Best Score: 0.5057471264367817\n"
     ]
    }
   ],
   "source": [
    "import numpy as np\n",
    "from sklearn.tree import DecisionTreeClassifier\n",
    "from sklearn.model_selection import GridSearchCV, cross_val_score\n",
    "\n",
    "clf = GridSearchCV(estimator=DecisionTreeClassifier(criterion='entropy'), param_grid=[{'max_depth':np.arange(1,20,1)}], scoring='accuracy', cv=10)\n",
    "clf.fit(X_train, y_train)\n",
    "print('{}{}{}{}'.format('C: ',clf.best_estimator_, '  Best Score: ', clf.best_score_))\n"
   ]
  },
  {
   "cell_type": "code",
   "execution_count": 236,
   "metadata": {},
   "outputs": [
    {
     "name": "stdout",
     "output_type": "stream",
     "text": [
      "Training Accuracy:  0.7919540229885057\n",
      "Test Accuracy:  0.5240641711229946\n"
     ]
    }
   ],
   "source": [
    "from sklearn.tree import DecisionTreeClassifier\n",
    "from sklearn.metrics import accuracy_score\n",
    "\n",
    "# Building an unpruned decision tree\n",
    "dt_trained = DecisionTreeClassifier(criterion=\"entropy\", random_state=91, max_depth=11)\n",
    "dt_trained.fit(X_train,y_train)\n",
    "ypred_train = dt_trained.predict(X_train)\n",
    "ypred_test_dt = dt_trained.predict(X_test)\n",
    "print(\"Training Accuracy: \",str(accuracy_score(y_train,ypred_train)))\n",
    "print(\"Test Accuracy: \",str(accuracy_score(y_test,ypred_test_dt)))"
   ]
  },
  {
   "cell_type": "code",
   "execution_count": 207,
   "metadata": {},
   "outputs": [
    {
     "data": {
      "text/plain": [
       "array([[104,  86],\n",
       "       [ 92,  92]])"
      ]
     },
     "execution_count": 207,
     "metadata": {},
     "output_type": "execute_result"
    }
   ],
   "source": [
    "from sklearn.metrics import confusion_matrix\n",
    "confusion_matrix(y_test, ypred_test)\n"
   ]
  },
  {
   "cell_type": "code",
   "execution_count": 208,
   "metadata": {},
   "outputs": [
    {
     "data": {
      "text/plain": [
       "11"
      ]
     },
     "execution_count": 208,
     "metadata": {},
     "output_type": "execute_result"
    }
   ],
   "source": [
    "dt_trained.tree_.max_depth"
   ]
  },
  {
   "cell_type": "code",
   "execution_count": 209,
   "metadata": {},
   "outputs": [
    {
     "data": {
      "text/plain": [
       "'ROC AUC: 0.5279605263157895'"
      ]
     },
     "execution_count": 209,
     "metadata": {},
     "output_type": "execute_result"
    }
   ],
   "source": [
    "#ROC Curve\n",
    "from sklearn.metrics import roc_curve, auc\n",
    "\n",
    "pred_probability_dt = dt_trained.predict_proba(X_test)\n",
    "pred_proba_dt = pd.DataFrame(pred_probability_dt).iloc[:,1]\n",
    "fpr_dt, tpr_dt, thresholds_dt = roc_curve(y_test, pred_proba_dt)\n",
    "roc_auc_dt = auc(fpr_dt, tpr_dt)\n",
    "'{}{}'.format('ROC AUC: ', roc_auc_dt)"
   ]
  },
  {
   "cell_type": "markdown",
   "metadata": {},
   "source": [
    "# Random Forest"
   ]
  },
  {
   "cell_type": "code",
   "execution_count": 104,
   "metadata": {
    "scrolled": true
   },
   "outputs": [
    {
     "name": "stdout",
     "output_type": "stream",
     "text": [
      "C: RandomForestClassifier(bootstrap=True, class_weight=None, criterion='entropy',\n",
      "            max_depth=33, max_features='auto', max_leaf_nodes=None,\n",
      "            min_impurity_decrease=0.0, min_impurity_split=None,\n",
      "            min_samples_leaf=1, min_samples_split=2,\n",
      "            min_weight_fraction_leaf=0.0, n_estimators=50, n_jobs=1,\n",
      "            oob_score=False, random_state=None, verbose=0,\n",
      "            warm_start=False)  Best Score: 0.5251141552511416\n"
     ]
    },
    {
     "data": {
      "text/plain": [
       "55.38734316825867"
      ]
     },
     "execution_count": 104,
     "metadata": {},
     "output_type": "execute_result"
    }
   ],
   "source": [
    "# Cross Validation to set Hyper Params\n",
    "import numpy as np\n",
    "from sklearn.ensemble import RandomForestClassifier\n",
    "from sklearn.model_selection import GridSearchCV, cross_val_score\n",
    "import time\n",
    "\n",
    "start_time = time.time()\n",
    "clf = GridSearchCV(estimator=RandomForestClassifier(n_estimators=50, criterion='entropy'), param_grid=[{'max_depth':np.arange(2,40,1)}], scoring='accuracy', cv=5)\n",
    "clf.fit(X_train, y_train)\n",
    "print('{}{}{}{}'.format('C: ',clf.best_estimator_, '  Best Score: ', clf.best_score_))\n",
    "\n",
    "time.time() - start_time"
   ]
  },
  {
   "cell_type": "code",
   "execution_count": 210,
   "metadata": {},
   "outputs": [
    {
     "name": "stdout",
     "output_type": "stream",
     "text": [
      "Training Accuracy: 1.0\n",
      "Test Accuracy: 0.4893048128342246\n",
      "[[106  84]\n",
      " [107  77]]\n"
     ]
    }
   ],
   "source": [
    "from sklearn.ensemble import RandomForestClassifier\n",
    "rf = RandomForestClassifier(n_estimators=2000, criterion='entropy')\n",
    "rf_trained = rf.fit(X_train, y_train)\n",
    "\n",
    "y_pred_train_rf = rf_trained.predict(X_train)\n",
    "y_pred_test_rf = rf_trained.predict(X_test)\n",
    "\n",
    "print('{}{}'.format('Training Accuracy: ', accuracy_score(y_train,y_pred_train_rf)))\n",
    "print('{}{}'.format('Test Accuracy: ', accuracy_score(y_test,y_pred_test_rf)))\n",
    "print(confusion_matrix(y_test,y_pred_test_rf))"
   ]
  },
  {
   "cell_type": "code",
   "execution_count": 38,
   "metadata": {},
   "outputs": [
    {
     "data": {
      "text/plain": [
       "<matplotlib.axes._subplots.AxesSubplot at 0x1a1fa5dc18>"
      ]
     },
     "execution_count": 38,
     "metadata": {},
     "output_type": "execute_result"
    },
    {
     "data": {
      "image/png": "[encoded data removed]",
      "text/plain": [
       "<Figure size 432x288 with 1 Axes>"
      ]
     },
     "metadata": {},
     "output_type": "display_data"
    }
   ],
   "source": [
    "# Checking the optimal number of trees\n",
    "from sklearn.ensemble import RandomForestClassifier\n",
    "import time\n",
    "\n",
    "start_time = time.time()\n",
    "\n",
    "accuracies = []\n",
    "for i in np.arange(1,500,10):\n",
    "    rf = RandomForestClassifier(n_estimators=i)#, criterion='entropy', max_depth = 10)\n",
    "    rf_trained = rf.fit(X_train, y_train)\n",
    "    y_pred_test_rf = rf_trained.predict(X_test)\n",
    "    accuracies.append((i, accuracy_score(y_test,y_pred_test_rf)))\n",
    "\n",
    "time.time() - start_time\n",
    "\n",
    "acc = pd.DataFrame(accuracies)\n",
    "acc.columns = ['number of trees','error rate']\n",
    "acc['error rate'] = 1 - acc['error rate'] \n",
    "acc.plot(x = 'number of trees', y = 'error rate')"
   ]
  },
  {
   "cell_type": "code",
   "execution_count": 211,
   "metadata": {},
   "outputs": [
    {
     "data": {
      "text/plain": [
       "'ROC AUC: 0.48037757437070944'"
      ]
     },
     "execution_count": 211,
     "metadata": {},
     "output_type": "execute_result"
    }
   ],
   "source": [
    "# ROC Curve\n",
    "from sklearn.metrics import roc_curve, auc\n",
    "\n",
    "pred_probability_rf = rf_trained.predict_proba(X_test)\n",
    "pred_proba_pd_rf = pd.DataFrame(pred_probability_rf).iloc[:,1]\n",
    "fpr_rf, tpr_rf, thresholds_rf = roc_curve(y_test, pred_proba_pd_rf)\n",
    "roc_auc_rf = auc(fpr_rf, tpr_rf)\n",
    "\n",
    "'{}{}'.format('ROC AUC: ', roc_auc_rf)"
   ]
  },
  {
   "cell_type": "code",
   "execution_count": 216,
   "metadata": {
    "scrolled": true
   },
   "outputs": [
    {
     "data": {
      "image/png": "[encoded data removed]",
      "text/plain": [
       "<Figure size 432x288 with 1 Axes>"
      ]
     },
     "metadata": {},
     "output_type": "display_data"
    }
   ],
   "source": [
    "import matplotlib.pyplot as plt\n",
    "\n",
    "plt.title('Receiver Operating Characteristic')\n",
    "#plt.plot(fpr_rf, tpr_rf, \"#155084\")\n",
    "plt.plot(fpr_nb, tpr_nb, 'g')\n",
    "plt.plot(fpr_dt, tpr_dt, 'black')\n",
    "plt.plot(fpr_lr, tpr_lr, 'gray')\n",
    "plt.plot([0,1],[0,1],'r--')\n",
    "#plt.xlim([-0.1,1.1])\n",
    "#plt.ylim([-0.1,1.1])\n",
    "plt.ylabel('True Positive Rate')\n",
    "plt.xlabel('False Positive Rate')\n",
    "plt.show()"
   ]
  },
  {
   "cell_type": "markdown",
   "metadata": {},
   "source": [
    "# Logistic Regression"
   ]
  },
  {
   "cell_type": "code",
   "execution_count": 62,
   "metadata": {},
   "outputs": [
    {
     "name": "stdout",
     "output_type": "stream",
     "text": [
      "C: LogisticRegression(C=0.2, class_weight=None, dual=False, fit_intercept=True,\n",
      "          intercept_scaling=1, max_iter=100, multi_class='ovr', n_jobs=1,\n",
      "          penalty='l2', random_state=None, solver='liblinear', tol=0.0001,\n",
      "          verbose=0, warm_start=False)  Best Score: 0.5198412698412699\n"
     ]
    },
    {
     "data": {
      "text/plain": [
       "0.5254120826721191"
      ]
     },
     "execution_count": 62,
     "metadata": {},
     "output_type": "execute_result"
    }
   ],
   "source": [
    "# Cross Validation to set Hyper Params\n",
    "from sklearn.linear_model import LogisticRegression\n",
    "import numpy as np\n",
    "from sklearn.model_selection import GridSearchCV, cross_val_score\n",
    "import time\n",
    "\n",
    "start_time = time.time()\n",
    "clf = GridSearchCV(estimator=LogisticRegression(), param_grid=[{'C':np.arange(0.1,3,.1)}], scoring='accuracy', cv=5)\n",
    "clf.fit(X_train, y_train)\n",
    "print('{}{}{}{}'.format('C: ',clf.best_estimator_, '  Best Score: ', clf.best_score_))\n",
    "\n",
    "time.time() - start_time"
   ]
  },
  {
   "cell_type": "code",
   "execution_count": 237,
   "metadata": {},
   "outputs": [
    {
     "name": "stdout",
     "output_type": "stream",
     "text": [
      "Training Accuracy: 0.5149425287356322\n",
      "Test Accuracy: 0.5187165775401069\n"
     ]
    },
    {
     "data": {
      "text/plain": [
       "array([[ 63, 127],\n",
       "       [ 53, 131]])"
      ]
     },
     "execution_count": 237,
     "metadata": {},
     "output_type": "execute_result"
    }
   ],
   "source": [
    "from sklearn.linear_model import LogisticRegression\n",
    "from sklearn.metrics import confusion_matrix\n",
    "LR = LogisticRegression('l1', C = 1)\n",
    "LR_trained = LR.fit(X_train, y_train)\n",
    "LR_y_pred_lr = LR_trained.predict(X_test)\n",
    "LR_y_pred_train = LR_trained.predict(X_train)\n",
    "\n",
    "print('{}{}'.format('Training Accuracy: ', accuracy_score(y_train,LR_y_pred_train)))\n",
    "print('{}{}'.format('Test Accuracy: ', accuracy_score(y_test,LR_y_pred_lr)))\n",
    "confusion_matrix(y_test, LR_y_pred)"
   ]
  },
  {
   "cell_type": "code",
   "execution_count": 206,
   "metadata": {},
   "outputs": [
    {
     "data": {
      "text/plain": [
       "'ROC AUC: 0.5157322654462242'"
      ]
     },
     "execution_count": 206,
     "metadata": {},
     "output_type": "execute_result"
    }
   ],
   "source": [
    "from sklearn.metrics import roc_curve, auc\n",
    "\n",
    "pred_probability_lr = LR_trained.predict_proba(X_test)\n",
    "pred_proba_pd_lr = pd.DataFrame(pred_probability_lr).iloc[:,1]\n",
    "fpr_lr, tpr_lr, thresholds_lr = roc_curve(y_test, pred_proba_pd_lr)\n",
    "roc_auc_lr = auc(fpr_lr, tpr_lr)\n",
    "'{}{}'.format('ROC AUC: ', roc_auc_lr)"
   ]
  },
  {
   "cell_type": "markdown",
   "metadata": {},
   "source": [
    "# Naive Bayes"
   ]
  },
  {
   "cell_type": "code",
   "execution_count": 204,
   "metadata": {},
   "outputs": [
    {
     "name": "stdout",
     "output_type": "stream",
     "text": [
      "Training Accuracy:  0.5540229885057472\n",
      "Test Accuracy:  0.5427807486631016\n"
     ]
    },
    {
     "data": {
      "text/plain": [
       "array([[104,  86],\n",
       "       [ 92,  92]])"
      ]
     },
     "execution_count": 204,
     "metadata": {},
     "output_type": "execute_result"
    }
   ],
   "source": [
    "from sklearn.metrics import confusion_matrix\n",
    "from sklearn.naive_bayes import BernoulliNB\n",
    "\n",
    "nb = BernoulliNB()\n",
    "nb_trained = nb.fit(X_train, y_train)\n",
    "y_predict_train_nb = nb_trained.predict(X_train)\n",
    "y_predict_test_nb = nb_trained.predict(X_test)\n",
    "\n",
    "print(\"Training Accuracy: \",str(accuracy_score(y_train,y_predict_train_nb)))\n",
    "print(\"Test Accuracy: \",str(accuracy_score(y_test,y_predict_test_nb)))\n",
    "\n",
    "confusion_matrix(y_test, ypred_test)"
   ]
  },
  {
   "cell_type": "code",
   "execution_count": 168,
   "metadata": {},
   "outputs": [
    {
     "data": {
      "text/plain": [
       "'ROC AUC: 0.541533180778032'"
      ]
     },
     "execution_count": 168,
     "metadata": {},
     "output_type": "execute_result"
    }
   ],
   "source": [
    "#ROC Curve\n",
    "from sklearn.metrics import roc_curve, auc\n",
    "\n",
    "pred_probability_nb = nb_trained.predict_proba(X_test)\n",
    "pred_proba_nb = pd.DataFrame(pred_probability_nb).iloc[:,1]\n",
    "fpr_nb, tpr_nb, thresholds_nb = roc_curve(y_test, pred_proba_nb)\n",
    "roc_auc_nb = auc(fpr_nb, tpr_nb)\n",
    "'{}{}'.format('ROC AUC: ', roc_auc_nb)"
   ]
  },
  {
   "cell_type": "markdown",
   "metadata": {},
   "source": [
    "# SVM"
   ]
  },
  {
   "cell_type": "code",
   "execution_count": 219,
   "metadata": {},
   "outputs": [],
   "source": [
    "from sklearn.svm import SVC\n",
    "from sklearn.model_selection import GridSearchCV, cross_val_score\n",
    "\n",
    "clf = GridSearchCV(estimator=SVC(), param_grid=[{'C':np.arange(1,10000,10)}], scoring='accuracy', cv=5)\n",
    "clf.fit(X_train, y_train)\n",
    "print('{}{}{}{}'.format('C: ',clf.best_estimator_, '  Best Score: ', clf.best_score_))"
   ]
  },
  {
   "cell_type": "code",
   "execution_count": 230,
   "metadata": {
    "scrolled": true
   },
   "outputs": [
    {
     "name": "stdout",
     "output_type": "stream",
     "text": [
      "Training Accuracy: 0.5873563218390805\n",
      "Test Accuracy: 0.5802139037433155\n"
     ]
    },
    {
     "data": {
      "text/plain": [
       "array([[116,  74],\n",
       "       [ 83, 101]])"
      ]
     },
     "execution_count": 230,
     "metadata": {},
     "output_type": "execute_result"
    }
   ],
   "source": [
    "from sklearn.svm import SVC\n",
    "svm = SVC(C=10000, probability=True)\n",
    "svm_trained = svm.fit(X_train, y_train)\n",
    "\n",
    "y_pred_train_svm = svm_trained.predict(X_train)\n",
    "y_pred_test_svm = svm_trained.predict(X_test)\n",
    "\n",
    "print('{}{}'.format('Training Accuracy: ', accuracy_score(y_train,y_pred_train_svm)))\n",
    "print('{}{}'.format('Test Accuracy: ', accuracy_score(y_test,y_pred_test_svm)))\n",
    "confusion_matrix(y_test,y_pred_test_svm)"
   ]
  },
  {
   "cell_type": "code",
   "execution_count": 233,
   "metadata": {},
   "outputs": [
    {
     "data": {
      "text/plain": [
       "'ROC AUC: 0.49528032036613273'"
      ]
     },
     "execution_count": 233,
     "metadata": {},
     "output_type": "execute_result"
    }
   ],
   "source": [
    "#ROC Curve\n",
    "from sklearn.metrics import roc_curve, auc\n",
    "\n",
    "pred_probability_svm = svm_trained.predict_proba(X_test)\n",
    "pred_proba_svm = pd.DataFrame(pred_probability_svm).iloc[:,1]\n",
    "fpr_svm, tpr_svm, thresholds_svm = roc_curve(y_test, pred_proba_svm)\n",
    "roc_auc_svm = auc(fpr_svm, tpr_svm)\n",
    "'{}{}'.format('ROC AUC: ', roc_auc_svm)"
   ]
  },
  {
   "cell_type": "code",
   "execution_count": 259,
   "metadata": {},
   "outputs": [
    {
     "name": "stdout",
     "output_type": "stream",
     "text": [
      "128    0.542929\n",
      "Name: 0, dtype: float64\n"
     ]
    },
    {
     "data": {
      "text/plain": [
       "219    0.469707\n",
       "Name: 0, dtype: float64"
      ]
     },
     "execution_count": 259,
     "metadata": {},
     "output_type": "execute_result"
    }
   ],
   "source": [
    "svm_prob = pd.DataFrame(pred_probability_svm).iloc[:,0]\n",
    "print(svm_prob[svm_prob == svm_prob.max()])\n",
    "svm_prob[svm_prob == svm_prob.min()]"
   ]
  },
  {
   "cell_type": "markdown",
   "metadata": {},
   "source": [
    "## KNN"
   ]
  },
  {
   "cell_type": "code",
   "execution_count": 202,
   "metadata": {},
   "outputs": [
    {
     "name": "stdout",
     "output_type": "stream",
     "text": [
      "C: KNeighborsClassifier(algorithm='auto', leaf_size=30, metric='minkowski',\n",
      "           metric_params=None, n_jobs=1, n_neighbors=9, p=2,\n",
      "           weights='uniform')  Best Score: 0.5195402298850574\n"
     ]
    }
   ],
   "source": [
    "from sklearn.neighbors import KNeighborsClassifier\n",
    "from sklearn.model_selection import GridSearchCV, cross_val_score\n",
    "\n",
    "clf = GridSearchCV(estimator=KNeighborsClassifier(), param_grid=[{'n_neighbors':np.arange(1,50,1)}], scoring='accuracy', cv=5)\n",
    "clf.fit(X_train, y_train)\n",
    "print('{}{}{}{}'.format('C: ',clf.best_estimator_, '  Best Score: ', clf.best_score_))"
   ]
  },
  {
   "cell_type": "code",
   "execution_count": 203,
   "metadata": {},
   "outputs": [
    {
     "name": "stdout",
     "output_type": "stream",
     "text": [
      "Training Accuracy: 0.6402298850574712\n",
      "Test Accuracy: 0.5401069518716578\n"
     ]
    }
   ],
   "source": [
    "from sklearn.neighbors import KNeighborsClassifier\n",
    "k_N = KNeighborsClassifier(n_neighbors=9) \n",
    "k_N.fit(X_train, y_train)\n",
    "KNN_y_pred_train = k_N.predict(X_train)\n",
    "KNN_y_pred = k_N.predict(X_test)\n",
    "\n",
    "print('{}{}'.format('Training Accuracy: ', accuracy_score(y_train,KNN_y_pred_train)))\n",
    "print('{}{}'.format('Test Accuracy: ', accuracy_score(y_test,KNN_y_pred)))"
   ]
  },
  {
   "cell_type": "code",
   "execution_count": 221,
   "metadata": {},
   "outputs": [
    {
     "data": {
      "text/plain": [
       "'ROC AUC: 0.5297482837528603'"
      ]
     },
     "execution_count": 221,
     "metadata": {},
     "output_type": "execute_result"
    }
   ],
   "source": [
    "#ROC Curve\n",
    "from sklearn.metrics import roc_curve, auc\n",
    "\n",
    "pred_probability_knn = k_N.predict_proba(X_test)\n",
    "pred_proba_knn = pd.DataFrame(pred_probability_knn).iloc[:,1]\n",
    "fpr_knn, tpr_knn, thresholds_knn = roc_curve(y_test, pred_proba_knn)\n",
    "roc_auc_knn = auc(fpr_knn, tpr_knn)\n",
    "'{}{}'.format('ROC AUC: ', roc_auc_knn)"
   ]
  },
  {
   "cell_type": "markdown",
   "metadata": {},
   "source": [
    "# AdaBoost"
   ]
  },
  {
   "cell_type": "code",
   "execution_count": 130,
   "metadata": {},
   "outputs": [
    {
     "name": "stdout",
     "output_type": "stream",
     "text": [
      "Decision tree train/test accuracies 1.000/0.513\n"
     ]
    }
   ],
   "source": [
    "from sklearn.ensemble import AdaBoostClassifier\n",
    "tree = DecisionTreeClassifier(criterion='entropy',\n",
    "                                  random_state=1,\n",
    "                               max_depth=30)\n",
    "ada = AdaBoostClassifier(base_estimator=tree,\n",
    "                          n_estimators=1000, \n",
    "                          learning_rate=0.1,\n",
    "                          random_state=1)\n",
    "tree = tree.fit(X_train, y_train)\n",
    "y_train_pred = tree.predict(X_train)\n",
    "y_test_pred = tree.predict(X_test)\n",
    "tree_train = accuracy_score(y_train, y_train_pred)\n",
    "tree_test = accuracy_score(y_test, y_test_pred)\n",
    "print('Decision tree train/test accuracies %.3f/%.3f'% (tree_train, tree_test))"
   ]
  },
  {
   "cell_type": "markdown",
   "metadata": {},
   "source": [
    "# ROC"
   ]
  },
  {
   "cell_type": "code",
   "execution_count": 247,
   "metadata": {
    "scrolled": true
   },
   "outputs": [
    {
     "data": {
      "image/png": "[encoded data removed]",
      "text/plain": [
       "<Figure size 432x288 with 1 Axes>"
      ]
     },
     "metadata": {},
     "output_type": "display_data"
    }
   ],
   "source": [
    "import matplotlib.pyplot as plt\n",
    "\n",
    "plt.title('Receiver Operating Characteristic')\n",
    "#plt.plot(fpr_rf, tpr_rf, \"#155084\", label = 'Random Forest')\n",
    "plt.plot(fpr_knn, tpr_knn, '#155084',label = 'KNN')\n",
    "plt.plot(fpr_nb, tpr_nb, 'g', label = 'Naive Bayes')\n",
    "plt.plot(fpr_dt, tpr_dt, 'black', label = 'Decision Tree')\n",
    "plt.plot(fpr_svm, tpr_svm, 'orange', label = 'SVM')\n",
    "plt.plot(fpr_lr, tpr_lr, 'brown', label = 'Logistic Regression')\n",
    "plt.plot([0,1],[0,1],'r--')\n",
    "#plt.xlim([-0.1,1.1])\n",
    "#plt.ylim([-0.1,1.1])\n",
    "plt.ylabel('True Positive Rate')\n",
    "plt.xlabel('False Positive Rate')\n",
    "plt.legend()\n",
    "plt.show()"
   ]
  },
  {
   "cell_type": "markdown",
   "metadata": {},
   "source": [
    "## Mayority Voting"
   ]
  },
  {
   "cell_type": "code",
   "execution_count": 240,
   "metadata": {},
   "outputs": [
    {
     "name": "stdout",
     "output_type": "stream",
     "text": [
      "Test accuracy: 0.5721925133689839\n"
     ]
    }
   ],
   "source": [
    "from collections import Counter\n",
    "pred = pd.DataFrame({'Decision Tree': ypred_test_dt,\n",
    "                    'Logistic Regression': LR_y_pred_lr,\n",
    "                    'Naive Bayes': y_predict_test_nb,\n",
    "                    'SVM': y_pred_test_svm,\n",
    "                    'KNN': KNN_y_pred,\n",
    "                    })\n",
    "y_pred_stacking = []\n",
    "for i in range(len(pred)):\n",
    "    y_pred_stacking.append(Counter(pred.iloc[i]).most_common()[0][0])\n",
    "pred['Stacking Prediction'] = y_pred_stacking\n",
    "print('Test accuracy:', accuracy_score(y_test, y_pred_stacking))"
   ]
  },
  {
   "cell_type": "code",
   "execution_count": 241,
   "metadata": {
    "scrolled": true
   },
   "outputs": [
    {
     "data": {
      "text/html": [
       "<div>\n",
       "<style scoped>\n",
       "    .dataframe tbody tr th:only-of-type {\n",
       "        vertical-align: middle;\n",
       "    }\n",
       "\n",
       "    .dataframe tbody tr th {\n",
       "        vertical-align: top;\n",
       "    }\n",
       "\n",
       "    .dataframe thead th {\n",
       "        text-align: right;\n",
       "    }\n",
       "</style>\n",
       "<table border=\"1\" class=\"dataframe\">\n",
       "  <thead>\n",
       "    <tr style=\"text-align: right;\">\n",
       "      <th></th>\n",
       "      <th>Decision Tree</th>\n",
       "      <th>KNN</th>\n",
       "      <th>Logistic Regression</th>\n",
       "      <th>Naive Bayes</th>\n",
       "      <th>SVM</th>\n",
       "      <th>Stacking Prediction</th>\n",
       "    </tr>\n",
       "  </thead>\n",
       "  <tbody>\n",
       "    <tr>\n",
       "      <th>0</th>\n",
       "      <td>1</td>\n",
       "      <td>-1</td>\n",
       "      <td>1</td>\n",
       "      <td>-1</td>\n",
       "      <td>-1</td>\n",
       "      <td>-1</td>\n",
       "    </tr>\n",
       "    <tr>\n",
       "      <th>1</th>\n",
       "      <td>-1</td>\n",
       "      <td>1</td>\n",
       "      <td>1</td>\n",
       "      <td>-1</td>\n",
       "      <td>1</td>\n",
       "      <td>1</td>\n",
       "    </tr>\n",
       "    <tr>\n",
       "      <th>2</th>\n",
       "      <td>1</td>\n",
       "      <td>1</td>\n",
       "      <td>1</td>\n",
       "      <td>-1</td>\n",
       "      <td>1</td>\n",
       "      <td>1</td>\n",
       "    </tr>\n",
       "    <tr>\n",
       "      <th>3</th>\n",
       "      <td>1</td>\n",
       "      <td>-1</td>\n",
       "      <td>-1</td>\n",
       "      <td>-1</td>\n",
       "      <td>-1</td>\n",
       "      <td>-1</td>\n",
       "    </tr>\n",
       "    <tr>\n",
       "      <th>4</th>\n",
       "      <td>1</td>\n",
       "      <td>-1</td>\n",
       "      <td>-1</td>\n",
       "      <td>-1</td>\n",
       "      <td>-1</td>\n",
       "      <td>-1</td>\n",
       "    </tr>\n",
       "    <tr>\n",
       "      <th>5</th>\n",
       "      <td>-1</td>\n",
       "      <td>-1</td>\n",
       "      <td>-1</td>\n",
       "      <td>-1</td>\n",
       "      <td>-1</td>\n",
       "      <td>-1</td>\n",
       "    </tr>\n",
       "    <tr>\n",
       "      <th>6</th>\n",
       "      <td>-1</td>\n",
       "      <td>1</td>\n",
       "      <td>-1</td>\n",
       "      <td>-1</td>\n",
       "      <td>-1</td>\n",
       "      <td>-1</td>\n",
       "    </tr>\n",
       "    <tr>\n",
       "      <th>7</th>\n",
       "      <td>-1</td>\n",
       "      <td>-1</td>\n",
       "      <td>1</td>\n",
       "      <td>-1</td>\n",
       "      <td>1</td>\n",
       "      <td>-1</td>\n",
       "    </tr>\n",
       "    <tr>\n",
       "      <th>8</th>\n",
       "      <td>1</td>\n",
       "      <td>1</td>\n",
       "      <td>1</td>\n",
       "      <td>-1</td>\n",
       "      <td>1</td>\n",
       "      <td>1</td>\n",
       "    </tr>\n",
       "    <tr>\n",
       "      <th>9</th>\n",
       "      <td>1</td>\n",
       "      <td>-1</td>\n",
       "      <td>1</td>\n",
       "      <td>1</td>\n",
       "      <td>-1</td>\n",
       "      <td>1</td>\n",
       "    </tr>\n",
       "  </tbody>\n",
       "</table>\n",
       "</div>"
      ],
      "text/plain": [
       "   Decision Tree  KNN  Logistic Regression  Naive Bayes  SVM  \\\n",
       "0              1   -1                    1           -1   -1   \n",
       "1             -1    1                    1           -1    1   \n",
       "2              1    1                    1           -1    1   \n",
       "3              1   -1                   -1           -1   -1   \n",
       "4              1   -1                   -1           -1   -1   \n",
       "5             -1   -1                   -1           -1   -1   \n",
       "6             -1    1                   -1           -1   -1   \n",
       "7             -1   -1                    1           -1    1   \n",
       "8              1    1                    1           -1    1   \n",
       "9              1   -1                    1            1   -1   \n",
       "\n",
       "   Stacking Prediction  \n",
       "0                   -1  \n",
       "1                    1  \n",
       "2                    1  \n",
       "3                   -1  \n",
       "4                   -1  \n",
       "5                   -1  \n",
       "6                   -1  \n",
       "7                   -1  \n",
       "8                    1  \n",
       "9                    1  "
      ]
     },
     "execution_count": 241,
     "metadata": {},
     "output_type": "execute_result"
    }
   ],
   "source": [
    "pred.head(10)"
   ]
  },
  {
   "cell_type": "markdown",
   "metadata": {},
   "source": [
    "# Findings and Takeaways"
   ]
  },
  {
   "cell_type": "markdown",
   "metadata": {},
   "source": [
    "Our analysis suggests that, given the data we have and the period we analyzed, Bitcoin increases can be poorly predicted with Twitter activity. From the different models that we tried, (Logistic Regression, KNN, Random Forest, SVM, AdaBoost, Naive Bayes) the model that has the best performance is Support Vector Machines, with an accuracy of 0.58, which is better than our baseline model (0.5). (The majority voting method have a similar accuracy score than SVM).\n",
    "\n",
    "Additionally, we found that the causation effect is not clearly defined. When Bitcoin prices change, this movement can trigger tweets, and vice-versa, one \"hot new\" can change the market. Hence, it is tough to disentangle the causation effect; appropriate econometric approaches can be done to analyze this causation effect.\n",
    "\n",
    "The low performance metrics we got can be due to following factors:\n",
    "\n",
    "1) Tweets style not standardized - special characters/abbreviation so that there are no exhaustive filtering methods available. Particularly on social media, people use different spellings, abbreviations, even emojis. The way that people tweet is so flexible that makes it hard to standardize the wording. \n",
    "\n",
    "2) Our data has limited and specific type of users (its possible to scrape Twitter regularly to increase variance in users).\n",
    "\n",
    "3) Our model does not account for tweet impressions (nor Followers) Tweets that have more retweets or comments may have larger influence on the market. \n",
    "\n",
    "4) People tweet about Bitcoin differently. When the market is dull, some people tend to tweet optimistically and to motivate the public, others might tweet about the downwarding of the market subjectively. These significant different styles of writing introduce the noice to our models thus could not produce a more accurate prediction. For instance, the data we collected is from some specific users, particularly Twitter Bitcoin influencers, who generally are related to the Bitcoin business. So, they tend to motivate their followers to avoid selling Bitcoins. Hence, the tweets corpus could be mixed with \"bad\" news and \"good\" motivational comments. This combination could make more difficult to classify the market movement based on tweets, especially using word embeddings.\n",
    " \n",
    "For future work, the number of Twitter users can be extendend. Also, the number of followers can be taken into account for the analysis. Tweeter accounts that have more followers may have large impact on the public's take on the market. If taking this into account, models can reflect the reaction to users who have different level of impact.  \n",
    "\n",
    "Furthermore, other more robust methods can be used, like deep neural networks."
   ]
  },
  {
   "cell_type": "code",
   "execution_count": null,
   "metadata": {},
   "outputs": [],
   "source": []
  }
 ],
 "metadata": {
  "kernelspec": {
   "display_name": "Python 3",
   "language": "python",
   "name": "python3"
  },
  "language_info": {
   "codemirror_mode": {
    "name": "ipython",
    "version": 3
   },
   "file_extension": ".py",
   "mimetype": "text/x-python",
   "name": "python",
   "nbconvert_exporter": "python",
   "pygments_lexer": "ipython3",
   "version": "3.6.4"
  }
 },
 "nbformat": 4,
 "nbformat_minor": 2
}
